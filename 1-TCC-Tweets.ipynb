{
  "nbformat": 4,
  "nbformat_minor": 0,
  "metadata": {
    "kernelspec": {
      "display_name": "Python 3",
      "language": "python",
      "name": "python3"
    },
    "language_info": {
      "name": "python",
      "version": "3.6.4",
      "mimetype": "text/x-python",
      "codemirror_mode": {
        "name": "ipython",
        "version": 3
      },
      "pygments_lexer": "ipython3",
      "nbconvert_exporter": "python",
      "file_extension": ".py"
    },
    "colab": {
      "name": "TCC_tweets_2022_01_26.ipynb",
      "provenance": [],
      "collapsed_sections": []
    },
    "accelerator": "GPU"
  },
  "cells": [
    {
      "cell_type": "markdown",
      "metadata": {
        "_uuid": "8516e4cfe5225b5c02a18f2be3c31313249b24c3",
        "_cell_guid": "07597ed8-0117-4ce1-b5b4-725ae012da4e",
        "id": "sPPU2PoqPJgt"
      },
      "source": [
        "# Data"
      ]
    },
    {
      "cell_type": "code",
      "metadata": {
        "colab": {
          "base_uri": "https://localhost:8080/",
          "height": 35
        },
        "id": "81iKsGA6WoJ2",
        "outputId": "1580a333-8218-486d-c9ae-a1fd28d2ff36"
      },
      "source": [
        "%tensorflow_version 1.x\n",
        "import tensorflow \n",
        "tensorflow.__version__"
      ],
      "execution_count": null,
      "outputs": [
        {
          "output_type": "execute_result",
          "data": {
            "application/vnd.google.colaboratory.intrinsic+json": {
              "type": "string"
            },
            "text/plain": [
              "'1.15.2'"
            ]
          },
          "metadata": {},
          "execution_count": 5
        }
      ]
    },
    {
      "cell_type": "code",
      "metadata": {
        "_uuid": "8f2839f25d086af736a60e9eeb907d3b93b6e0e5",
        "_cell_guid": "b1076dfc-b9ad-4769-8c92-a6c4dae69d19",
        "trusted": true,
        "id": "xKbWqIX6PJgu",
        "colab": {
          "base_uri": "https://localhost:8080/"
        },
        "outputId": "2cb2b36a-88ec-43d9-f4e9-0e6d991944d3"
      },
      "source": [
        "# Load libraries\n",
        "import numpy as np\n",
        "import pandas as pd\n",
        "import matplotlib.pyplot as plt\n",
        "import seaborn as sns\n",
        "%matplotlib inline\n",
        "\n",
        "import warnings\n",
        "warnings.filterwarnings(\"ignore\")\n",
        "\n",
        "!pip install vaderSentiment\n",
        "import vaderSentiment as vs"
      ],
      "execution_count": null,
      "outputs": [
        {
          "output_type": "stream",
          "name": "stdout",
          "text": [
            "Requirement already satisfied: vaderSentiment in /usr/local/lib/python3.7/dist-packages (3.3.2)\n",
            "Requirement already satisfied: requests in /usr/local/lib/python3.7/dist-packages (from vaderSentiment) (2.23.0)\n",
            "Requirement already satisfied: urllib3!=1.25.0,!=1.25.1,<1.26,>=1.21.1 in /usr/local/lib/python3.7/dist-packages (from requests->vaderSentiment) (1.24.3)\n",
            "Requirement already satisfied: idna<3,>=2.5 in /usr/local/lib/python3.7/dist-packages (from requests->vaderSentiment) (2.10)\n",
            "Requirement already satisfied: chardet<4,>=3.0.2 in /usr/local/lib/python3.7/dist-packages (from requests->vaderSentiment) (3.0.4)\n",
            "Requirement already satisfied: certifi>=2017.4.17 in /usr/local/lib/python3.7/dist-packages (from requests->vaderSentiment) (2021.10.8)\n"
          ]
        }
      ]
    },
    {
      "cell_type": "code",
      "source": [
        "from google.colab import drive\n",
        "drive.mount('/content/drive')\n",
        "\n",
        "import os\n",
        "workdir_path = '/content/drive/MyDrive/TCC_MBA_PUC/'  # Inserir o local da pasta onde estão os arquivos de entrada (treino e teste)\n",
        "os.chdir(workdir_path)"
      ],
      "metadata": {
        "colab": {
          "base_uri": "https://localhost:8080/"
        },
        "id": "5OS0rW5T3I8w",
        "outputId": "70a00b5f-3566-443f-f8bc-71232c27f528"
      },
      "execution_count": null,
      "outputs": [
        {
          "output_type": "stream",
          "name": "stdout",
          "text": [
            "Drive already mounted at /content/drive; to attempt to forcibly remount, call drive.mount(\"/content/drive\", force_remount=True).\n"
          ]
        }
      ]
    },
    {
      "cell_type": "code",
      "source": [
        "# create a csv reader to inspect data\n",
        "reader = pd.read_csv('./Bitcoin_tweets.csv')\n"
      ],
      "metadata": {
        "id": "INhknUPgW2-u",
        "colab": {
          "base_uri": "https://localhost:8080/",
          "height": 1000
        },
        "outputId": "4da1d028-fa5d-4bb8-d178-032a60c8cc93"
      },
      "execution_count": null,
      "outputs": [
        {
          "output_type": "stream",
          "name": "stderr",
          "text": [
            "ERROR:root:Internal Python error in the inspect module.\n",
            "Below is the traceback from this internal error.\n",
            "\n"
          ]
        },
        {
          "output_type": "stream",
          "name": "stdout",
          "text": [
            "Traceback (most recent call last):\n",
            "  File \"/usr/local/lib/python3.7/dist-packages/IPython/core/interactiveshell.py\", line 2882, in run_code\n",
            "    exec(code_obj, self.user_global_ns, self.user_ns)\n",
            "  File \"<ipython-input-8-12ac17089046>\", line 2, in <module>\n",
            "    reader = pd.read_csv('./Bitcoin_tweets.csv')\n",
            "  File \"/usr/local/lib/python3.7/dist-packages/pandas/io/parsers.py\", line 688, in read_csv\n",
            "    return _read(filepath_or_buffer, kwds)\n",
            "  File \"/usr/local/lib/python3.7/dist-packages/pandas/io/parsers.py\", line 460, in _read\n",
            "    data = parser.read(nrows)\n",
            "  File \"/usr/local/lib/python3.7/dist-packages/pandas/io/parsers.py\", line 1198, in read\n",
            "    ret = self._engine.read(nrows)\n",
            "  File \"/usr/local/lib/python3.7/dist-packages/pandas/io/parsers.py\", line 2157, in read\n",
            "    data = self._reader.read(nrows)\n",
            "  File \"pandas/_libs/parsers.pyx\", line 847, in pandas._libs.parsers.TextReader.read\n",
            "  File \"pandas/_libs/parsers.pyx\", line 862, in pandas._libs.parsers.TextReader._read_low_memory\n",
            "  File \"pandas/_libs/parsers.pyx\", line 941, in pandas._libs.parsers.TextReader._read_rows\n",
            "  File \"pandas/_libs/parsers.pyx\", line 1073, in pandas._libs.parsers.TextReader._convert_column_data\n",
            "  File \"pandas/_libs/parsers.pyx\", line 1119, in pandas._libs.parsers.TextReader._convert_tokens\n",
            "  File \"pandas/_libs/parsers.pyx\", line 1162, in pandas._libs.parsers.TextReader._convert_with_dtype\n",
            "  File \"/usr/local/lib/python3.7/dist-packages/pandas/core/dtypes/common.py\", line 530, in is_categorical_dtype\n",
            "    def is_categorical_dtype(arr_or_dtype) -> bool:\n",
            "KeyboardInterrupt\n",
            "\n",
            "During handling of the above exception, another exception occurred:\n",
            "\n",
            "Traceback (most recent call last):\n",
            "  File \"/usr/local/lib/python3.7/dist-packages/IPython/core/interactiveshell.py\", line 1823, in showtraceback\n",
            "    stb = value._render_traceback_()\n",
            "AttributeError: 'KeyboardInterrupt' object has no attribute '_render_traceback_'\n",
            "\n",
            "During handling of the above exception, another exception occurred:\n",
            "\n",
            "Traceback (most recent call last):\n",
            "  File \"/usr/local/lib/python3.7/dist-packages/dask/delayed.py\", line 8, in <module>\n",
            "    from cytoolz import curry, concat, unique, merge\n",
            "ModuleNotFoundError: No module named 'cytoolz'\n",
            "\n",
            "During handling of the above exception, another exception occurred:\n",
            "\n",
            "Traceback (most recent call last):\n",
            "  File \"/usr/local/lib/python3.7/dist-packages/IPython/core/ultratb.py\", line 1132, in get_records\n",
            "    return _fixed_getinnerframes(etb, number_of_lines_of_context, tb_offset)\n",
            "  File \"/usr/local/lib/python3.7/dist-packages/IPython/core/ultratb.py\", line 313, in wrapped\n",
            "    return f(*args, **kwargs)\n",
            "  File \"/usr/local/lib/python3.7/dist-packages/IPython/core/ultratb.py\", line 358, in _fixed_getinnerframes\n",
            "    records = fix_frame_records_filenames(inspect.getinnerframes(etb, context))\n",
            "  File \"/usr/lib/python3.7/inspect.py\", line 1502, in getinnerframes\n",
            "    frameinfo = (tb.tb_frame,) + getframeinfo(tb, context)\n",
            "  File \"/usr/lib/python3.7/inspect.py\", line 1460, in getframeinfo\n",
            "    filename = getsourcefile(frame) or getfile(frame)\n",
            "  File \"/usr/lib/python3.7/inspect.py\", line 696, in getsourcefile\n",
            "    if getattr(getmodule(object, filename), '__loader__', None) is not None:\n",
            "  File \"/usr/lib/python3.7/inspect.py\", line 733, in getmodule\n",
            "    if ismodule(module) and hasattr(module, '__file__'):\n",
            "  File \"/tensorflow-1.15.2/python3.7/tensorflow/__init__.py\", line 50, in __getattr__\n",
            "    module = self._load()\n",
            "  File \"/tensorflow-1.15.2/python3.7/tensorflow/__init__.py\", line 44, in _load\n",
            "    module = _importlib.import_module(self.__name__)\n",
            "  File \"/usr/lib/python3.7/importlib/__init__.py\", line 127, in import_module\n",
            "    return _bootstrap._gcd_import(name[level:], package, level)\n",
            "  File \"<frozen importlib._bootstrap>\", line 1006, in _gcd_import\n",
            "  File \"<frozen importlib._bootstrap>\", line 983, in _find_and_load\n",
            "  File \"<frozen importlib._bootstrap>\", line 967, in _find_and_load_unlocked\n",
            "  File \"<frozen importlib._bootstrap>\", line 677, in _load_unlocked\n",
            "  File \"<frozen importlib._bootstrap_external>\", line 728, in exec_module\n",
            "  File \"<frozen importlib._bootstrap>\", line 219, in _call_with_frames_removed\n",
            "  File \"/tensorflow-1.15.2/python3.7/tensorflow_core/contrib/__init__.py\", line 47, in <module>\n",
            "    from tensorflow.contrib import distributions\n",
            "  File \"/tensorflow-1.15.2/python3.7/tensorflow_core/contrib/distributions/__init__.py\", line 29, in <module>\n",
            "    from tensorflow.contrib.distributions.python.ops import bijectors\n",
            "  File \"/tensorflow-1.15.2/python3.7/tensorflow_core/contrib/distributions/__init__.py\", line 44, in <module>\n",
            "    from tensorflow.contrib.distributions.python.ops.estimator import *\n",
            "  File \"/tensorflow-1.15.2/python3.7/tensorflow_core/contrib/distributions/python/ops/estimator.py\", line 21, in <module>\n",
            "    from tensorflow.contrib.learn.python.learn.estimators.head import _compute_weighted_loss\n",
            "  File \"/tensorflow-1.15.2/python3.7/tensorflow_core/contrib/learn/__init__.py\", line 93, in <module>\n",
            "    from tensorflow.contrib.learn.python.learn import *\n",
            "  File \"/tensorflow-1.15.2/python3.7/tensorflow_core/contrib/learn/python/__init__.py\", line 28, in <module>\n",
            "    from tensorflow.contrib.learn.python.learn import *\n",
            "  File \"/tensorflow-1.15.2/python3.7/tensorflow_core/contrib/learn/python/learn/__init__.py\", line 30, in <module>\n",
            "    from tensorflow.contrib.learn.python.learn import estimators\n",
            "  File \"/tensorflow-1.15.2/python3.7/tensorflow_core/contrib/learn/python/learn/estimators/__init__.py\", line 302, in <module>\n",
            "    from tensorflow.contrib.learn.python.learn.estimators.dnn import DNNClassifier\n",
            "  File \"/tensorflow-1.15.2/python3.7/tensorflow_core/contrib/learn/python/learn/estimators/dnn.py\", line 34, in <module>\n",
            "    from tensorflow.contrib.learn.python.learn.estimators import dnn_linear_combined\n",
            "  File \"/tensorflow-1.15.2/python3.7/tensorflow_core/contrib/learn/python/learn/estimators/dnn_linear_combined.py\", line 36, in <module>\n",
            "    from tensorflow.contrib.learn.python.learn.estimators import estimator\n",
            "  File \"/tensorflow-1.15.2/python3.7/tensorflow_core/contrib/learn/python/learn/estimators/estimator.py\", line 52, in <module>\n",
            "    from tensorflow.contrib.learn.python.learn.learn_io import data_feeder\n",
            "  File \"/tensorflow-1.15.2/python3.7/tensorflow_core/contrib/learn/python/learn/learn_io/__init__.py\", line 26, in <module>\n",
            "    from tensorflow.contrib.learn.python.learn.learn_io.dask_io import extract_dask_data\n",
            "  File \"/tensorflow-1.15.2/python3.7/tensorflow_core/contrib/learn/python/learn/learn_io/dask_io.py\", line 33, in <module>\n",
            "    import dask.dataframe as dd\n",
            "  File \"/usr/local/lib/python3.7/dist-packages/dask/__init__.py\", line 6, in <module>\n",
            "    from .delayed import delayed\n",
            "  File \"/usr/local/lib/python3.7/dist-packages/dask/delayed.py\", line 10, in <module>\n",
            "    from toolz import curry, concat, unique, merge\n",
            "  File \"/usr/local/lib/python3.7/dist-packages/toolz/__init__.py\", line 20, in <module>\n",
            "    from . import curried, sandbox\n",
            "  File \"/usr/local/lib/python3.7/dist-packages/toolz/curried/__init__.py\", line 27, in <module>\n",
            "    from . import operator\n",
            "  File \"/usr/local/lib/python3.7/dist-packages/toolz/curried/operator.py\", line 15, in <module>\n",
            "    for name, f in vars(operator).items() if callable(f)},\n",
            "  File \"/usr/local/lib/python3.7/dist-packages/toolz/curried/operator.py\", line 15, in <dictcomp>\n",
            "    for name, f in vars(operator).items() if callable(f)},\n",
            "  File \"/usr/local/lib/python3.7/dist-packages/toolz/curried/operator.py\", line 9, in should_curry\n",
            "    num = num_required_args(f)\n",
            "  File \"/usr/local/lib/python3.7/dist-packages/toolz/functoolz.py\", line 867, in num_required_args\n",
            "    func)\n",
            "  File \"/usr/local/lib/python3.7/dist-packages/toolz/functoolz.py\", line 827, in _check_sigspec\n",
            "    sigspec = inspect.signature(func)\n",
            "  File \"/usr/lib/python3.7/inspect.py\", line 3083, in signature\n",
            "    return Signature.from_callable(obj, follow_wrapped=follow_wrapped)\n",
            "  File \"/usr/lib/python3.7/inspect.py\", line 2833, in from_callable\n",
            "    follow_wrapper_chains=follow_wrapped)\n",
            "  File \"/usr/lib/python3.7/inspect.py\", line 2288, in _signature_from_callable\n",
            "    skip_bound_arg=skip_bound_arg)\n",
            "  File \"/usr/lib/python3.7/inspect.py\", line 2114, in _signature_from_builtin\n",
            "    return _signature_fromstr(cls, func, s, skip_bound_arg)\n",
            "  File \"/usr/lib/python3.7/inspect.py\", line 1968, in _signature_fromstr\n",
            "    _signature_strip_non_python_syntax(s)\n",
            "  File \"/usr/lib/python3.7/inspect.py\", line 1921, in _signature_strip_non_python_syntax\n",
            "    for t in token_stream:\n",
            "  File \"/usr/lib/python3.7/tokenize.py\", line 583, in _tokenize\n",
            "    pseudomatch = _compile(PseudoToken).match(line, pos)\n",
            "  File \"/usr/lib/python3.7/tokenize.py\", line 148, in _compile\n",
            "    return re.compile(expr, re.UNICODE)\n",
            "KeyboardInterrupt\n"
          ]
        },
        {
          "output_type": "error",
          "ename": "KeyboardInterrupt",
          "evalue": "ignored",
          "traceback": [
            "\u001b[0;31m---------------------------------------------------------------------------\u001b[0m"
          ]
        }
      ]
    },
    {
      "cell_type": "markdown",
      "metadata": {
        "_uuid": "6aa550f242ac6d825be73e3beffc7d2446a0d1bd",
        "_cell_guid": "f4f393bc-9b20-4468-a548-07619c807d21",
        "id": "LrxzGXC3PJg3"
      },
      "source": [
        "# Exploratory Data Analysis"
      ]
    },
    {
      "cell_type": "code",
      "source": [
        "# base dimension\n",
        "reader.shape"
      ],
      "metadata": {
        "id": "EWwn3J-rP3JQ",
        "colab": {
          "base_uri": "https://localhost:8080/"
        },
        "outputId": "3e387c99-a929-4ef8-b54f-354c87352e04"
      },
      "execution_count": null,
      "outputs": [
        {
          "output_type": "execute_result",
          "data": {
            "text/plain": [
              "(1999534, 13)"
            ]
          },
          "metadata": {},
          "execution_count": 5
        }
      ]
    },
    {
      "cell_type": "code",
      "metadata": {
        "_uuid": "d629ff2d2480ee46fbb7e2d37f6b5fab8052498a",
        "_cell_guid": "79c7e3d0-c299-4dcb-8224-4455121ee9b0",
        "trusted": false,
        "id": "BtfvCXinPJgy",
        "colab": {
          "base_uri": "https://localhost:8080/",
          "height": 652
        },
        "outputId": "d320cd90-66e6-4ac4-bd30-e1821c327a36"
      },
      "source": [
        "# firsts lines view\n",
        "reader.head(5)"
      ],
      "execution_count": null,
      "outputs": [
        {
          "output_type": "execute_result",
          "data": {
            "text/html": [
              "\n",
              "  <div id=\"df-88344a03-2abb-4384-a77f-4cd2ebe28b2c\">\n",
              "    <div class=\"colab-df-container\">\n",
              "      <div>\n",
              "<style scoped>\n",
              "    .dataframe tbody tr th:only-of-type {\n",
              "        vertical-align: middle;\n",
              "    }\n",
              "\n",
              "    .dataframe tbody tr th {\n",
              "        vertical-align: top;\n",
              "    }\n",
              "\n",
              "    .dataframe thead th {\n",
              "        text-align: right;\n",
              "    }\n",
              "</style>\n",
              "<table border=\"1\" class=\"dataframe\">\n",
              "  <thead>\n",
              "    <tr style=\"text-align: right;\">\n",
              "      <th></th>\n",
              "      <th>user_name</th>\n",
              "      <th>user_location</th>\n",
              "      <th>user_description</th>\n",
              "      <th>user_created</th>\n",
              "      <th>user_followers</th>\n",
              "      <th>user_friends</th>\n",
              "      <th>user_favourites</th>\n",
              "      <th>user_verified</th>\n",
              "      <th>date</th>\n",
              "      <th>text</th>\n",
              "      <th>hashtags</th>\n",
              "      <th>source</th>\n",
              "      <th>is_retweet</th>\n",
              "    </tr>\n",
              "  </thead>\n",
              "  <tbody>\n",
              "    <tr>\n",
              "      <th>0</th>\n",
              "      <td>DeSota Wilson</td>\n",
              "      <td>Atlanta, GA</td>\n",
              "      <td>Biz Consultant, real estate, fintech, startups...</td>\n",
              "      <td>2009-04-26 20:05:09</td>\n",
              "      <td>8534.0</td>\n",
              "      <td>7605</td>\n",
              "      <td>4838</td>\n",
              "      <td>False</td>\n",
              "      <td>2021-02-10 23:59:04</td>\n",
              "      <td>Blue Ridge Bank shares halted by NYSE after #b...</td>\n",
              "      <td>['bitcoin']</td>\n",
              "      <td>Twitter Web App</td>\n",
              "      <td>False</td>\n",
              "    </tr>\n",
              "    <tr>\n",
              "      <th>1</th>\n",
              "      <td>CryptoND</td>\n",
              "      <td>NaN</td>\n",
              "      <td>😎 BITCOINLIVE is a Dutch platform aimed at inf...</td>\n",
              "      <td>2019-10-17 20:12:10</td>\n",
              "      <td>6769.0</td>\n",
              "      <td>1532</td>\n",
              "      <td>25483</td>\n",
              "      <td>False</td>\n",
              "      <td>2021-02-10 23:58:48</td>\n",
              "      <td>😎 Today, that's this #Thursday, we will do a \"...</td>\n",
              "      <td>['Thursday', 'Btc', 'wallet', 'security']</td>\n",
              "      <td>Twitter for Android</td>\n",
              "      <td>False</td>\n",
              "    </tr>\n",
              "    <tr>\n",
              "      <th>2</th>\n",
              "      <td>Tdlmatias</td>\n",
              "      <td>London, England</td>\n",
              "      <td>IM Academy : The best #forex, #SelfEducation, ...</td>\n",
              "      <td>2014-11-10 10:50:37</td>\n",
              "      <td>128.0</td>\n",
              "      <td>332</td>\n",
              "      <td>924</td>\n",
              "      <td>False</td>\n",
              "      <td>2021-02-10 23:54:48</td>\n",
              "      <td>Guys evening, I have read this article about B...</td>\n",
              "      <td>NaN</td>\n",
              "      <td>Twitter Web App</td>\n",
              "      <td>False</td>\n",
              "    </tr>\n",
              "    <tr>\n",
              "      <th>3</th>\n",
              "      <td>Crypto is the future</td>\n",
              "      <td>NaN</td>\n",
              "      <td>I will post a lot of buying signals for BTC tr...</td>\n",
              "      <td>2019-09-28 16:48:12</td>\n",
              "      <td>625.0</td>\n",
              "      <td>129</td>\n",
              "      <td>14</td>\n",
              "      <td>False</td>\n",
              "      <td>2021-02-10 23:54:33</td>\n",
              "      <td>$BTC A big chance in a billion! Price: \\487264...</td>\n",
              "      <td>['Bitcoin', 'FX', 'BTC', 'crypto']</td>\n",
              "      <td>dlvr.it</td>\n",
              "      <td>False</td>\n",
              "    </tr>\n",
              "    <tr>\n",
              "      <th>4</th>\n",
              "      <td>Alex Kirchmaier 🇦🇹🇸🇪 #FactsSuperspreader</td>\n",
              "      <td>Europa</td>\n",
              "      <td>Co-founder @RENJERJerky | Forbes 30Under30 | I...</td>\n",
              "      <td>2016-02-03 13:15:55</td>\n",
              "      <td>1249.0</td>\n",
              "      <td>1472</td>\n",
              "      <td>10482</td>\n",
              "      <td>False</td>\n",
              "      <td>2021-02-10 23:54:06</td>\n",
              "      <td>This network is secured by 9 508 nodes as of t...</td>\n",
              "      <td>['BTC']</td>\n",
              "      <td>Twitter Web App</td>\n",
              "      <td>False</td>\n",
              "    </tr>\n",
              "  </tbody>\n",
              "</table>\n",
              "</div>\n",
              "      <button class=\"colab-df-convert\" onclick=\"convertToInteractive('df-88344a03-2abb-4384-a77f-4cd2ebe28b2c')\"\n",
              "              title=\"Convert this dataframe to an interactive table.\"\n",
              "              style=\"display:none;\">\n",
              "        \n",
              "  <svg xmlns=\"http://www.w3.org/2000/svg\" height=\"24px\"viewBox=\"0 0 24 24\"\n",
              "       width=\"24px\">\n",
              "    <path d=\"M0 0h24v24H0V0z\" fill=\"none\"/>\n",
              "    <path d=\"M18.56 5.44l.94 2.06.94-2.06 2.06-.94-2.06-.94-.94-2.06-.94 2.06-2.06.94zm-11 1L8.5 8.5l.94-2.06 2.06-.94-2.06-.94L8.5 2.5l-.94 2.06-2.06.94zm10 10l.94 2.06.94-2.06 2.06-.94-2.06-.94-.94-2.06-.94 2.06-2.06.94z\"/><path d=\"M17.41 7.96l-1.37-1.37c-.4-.4-.92-.59-1.43-.59-.52 0-1.04.2-1.43.59L10.3 9.45l-7.72 7.72c-.78.78-.78 2.05 0 2.83L4 21.41c.39.39.9.59 1.41.59.51 0 1.02-.2 1.41-.59l7.78-7.78 2.81-2.81c.8-.78.8-2.07 0-2.86zM5.41 20L4 18.59l7.72-7.72 1.47 1.35L5.41 20z\"/>\n",
              "  </svg>\n",
              "      </button>\n",
              "      \n",
              "  <style>\n",
              "    .colab-df-container {\n",
              "      display:flex;\n",
              "      flex-wrap:wrap;\n",
              "      gap: 12px;\n",
              "    }\n",
              "\n",
              "    .colab-df-convert {\n",
              "      background-color: #E8F0FE;\n",
              "      border: none;\n",
              "      border-radius: 50%;\n",
              "      cursor: pointer;\n",
              "      display: none;\n",
              "      fill: #1967D2;\n",
              "      height: 32px;\n",
              "      padding: 0 0 0 0;\n",
              "      width: 32px;\n",
              "    }\n",
              "\n",
              "    .colab-df-convert:hover {\n",
              "      background-color: #E2EBFA;\n",
              "      box-shadow: 0px 1px 2px rgba(60, 64, 67, 0.3), 0px 1px 3px 1px rgba(60, 64, 67, 0.15);\n",
              "      fill: #174EA6;\n",
              "    }\n",
              "\n",
              "    [theme=dark] .colab-df-convert {\n",
              "      background-color: #3B4455;\n",
              "      fill: #D2E3FC;\n",
              "    }\n",
              "\n",
              "    [theme=dark] .colab-df-convert:hover {\n",
              "      background-color: #434B5C;\n",
              "      box-shadow: 0px 1px 3px 1px rgba(0, 0, 0, 0.15);\n",
              "      filter: drop-shadow(0px 1px 2px rgba(0, 0, 0, 0.3));\n",
              "      fill: #FFFFFF;\n",
              "    }\n",
              "  </style>\n",
              "\n",
              "      <script>\n",
              "        const buttonEl =\n",
              "          document.querySelector('#df-88344a03-2abb-4384-a77f-4cd2ebe28b2c button.colab-df-convert');\n",
              "        buttonEl.style.display =\n",
              "          google.colab.kernel.accessAllowed ? 'block' : 'none';\n",
              "\n",
              "        async function convertToInteractive(key) {\n",
              "          const element = document.querySelector('#df-88344a03-2abb-4384-a77f-4cd2ebe28b2c');\n",
              "          const dataTable =\n",
              "            await google.colab.kernel.invokeFunction('convertToInteractive',\n",
              "                                                     [key], {});\n",
              "          if (!dataTable) return;\n",
              "\n",
              "          const docLinkHtml = 'Like what you see? Visit the ' +\n",
              "            '<a target=\"_blank\" href=https://colab.research.google.com/notebooks/data_table.ipynb>data table notebook</a>'\n",
              "            + ' to learn more about interactive tables.';\n",
              "          element.innerHTML = '';\n",
              "          dataTable['output_type'] = 'display_data';\n",
              "          await google.colab.output.renderOutput(dataTable, element);\n",
              "          const docLink = document.createElement('div');\n",
              "          docLink.innerHTML = docLinkHtml;\n",
              "          element.appendChild(docLink);\n",
              "        }\n",
              "      </script>\n",
              "    </div>\n",
              "  </div>\n",
              "  "
            ],
            "text/plain": [
              "                                  user_name  ... is_retweet\n",
              "0                             DeSota Wilson  ...      False\n",
              "1                                  CryptoND  ...      False\n",
              "2                                 Tdlmatias  ...      False\n",
              "3                      Crypto is the future  ...      False\n",
              "4  Alex Kirchmaier 🇦🇹🇸🇪 #FactsSuperspreader  ...      False\n",
              "\n",
              "[5 rows x 13 columns]"
            ]
          },
          "metadata": {},
          "execution_count": 6
        }
      ]
    },
    {
      "cell_type": "code",
      "source": [
        "# identify num values\n",
        "reader.isnull().sum()"
      ],
      "metadata": {
        "id": "Sj83PwMvg2Ww",
        "colab": {
          "base_uri": "https://localhost:8080/"
        },
        "outputId": "a9904307-2aa3-4527-daad-1b9ba7d40701"
      },
      "execution_count": null,
      "outputs": [
        {
          "output_type": "execute_result",
          "data": {
            "text/plain": [
              "user_name               29\n",
              "user_location       964510\n",
              "user_description    237186\n",
              "user_created             0\n",
              "user_followers           0\n",
              "user_friends             0\n",
              "user_favourites          0\n",
              "user_verified            0\n",
              "date                     0\n",
              "text                     0\n",
              "hashtags             16974\n",
              "source                3542\n",
              "is_retweet             228\n",
              "dtype: int64"
            ]
          },
          "metadata": {},
          "execution_count": 7
        }
      ]
    },
    {
      "cell_type": "code",
      "source": [
        "# understand 'hastagas' column\n",
        "reader['hashtags'].value_counts()"
      ],
      "metadata": {
        "id": "iZQUSWj7QQG8",
        "colab": {
          "base_uri": "https://localhost:8080/"
        },
        "outputId": "f21e046d-7c55-4039-f7d2-98e50b37838e"
      },
      "execution_count": null,
      "outputs": [
        {
          "output_type": "execute_result",
          "data": {
            "text/plain": [
              "['Bitcoin']                                                                                                                                                                                                                                                                            288579\n",
              "['bitcoin']                                                                                                                                                                                                                                                                            115721\n",
              "['BTC']                                                                                                                                                                                                                                                                                 67239\n",
              "['btc']                                                                                                                                                                                                                                                                                 30901\n",
              "['Bitcoin', 'BTC']                                                                                                                                                                                                                                                                      26655\n",
              "                                                                                                                                                                                                                                                                                        ...  \n",
              "['ALGO', 'BTC', 'CRO', 'Xyo']                                                                                                                                                                                                                                                               1\n",
              "['Greyscale', 'Bitcoin', 'GMC']                                                                                                                                                                                                                                                             1\n",
              "['Bitcoin', 'Crypto', 'StockMarket', 'KSModel']                                                                                                                                                                                                                                             1\n",
              "['karate', 'Ross', 'Friends', 'Olympics', 'Olympics2021', 'OlympicGames', 'Olympics2020']                                                                                                                                                                                                   1\n",
              "['bone', 'blockchaintechnology', 'ltc', 'SHI', 'NFTcollection', 'WarrenBuffett', 'SHIBACON', 'forexlifestyle', 'binance', 'eth', 'altcoins', 'bitcoin', '에이티즈', 'shibainu', 'xrpstandard', 'usa', 'SIHBAINUTOKEN', 'safemoon', 'stonercats', 'shibitforward', 'SaitamaInuWolfPack']         1\n",
              "Name: hashtags, Length: 464097, dtype: int64"
            ]
          },
          "metadata": {},
          "execution_count": 8
        }
      ]
    },
    {
      "cell_type": "code",
      "metadata": {
        "_uuid": "11317c6e054b4c596c16aff329af629e4939a5a9",
        "_cell_guid": "fc76f9c9-1c5a-4963-b3a9-50fd7db6746f",
        "trusted": false,
        "id": "WvV2iXFNPJg0",
        "colab": {
          "base_uri": "https://localhost:8080/"
        },
        "outputId": "b5240d97-acea-4234-9550-be85cbf47001"
      },
      "source": [
        "# inspect type data\n",
        "reader.info()"
      ],
      "execution_count": null,
      "outputs": [
        {
          "output_type": "stream",
          "name": "stdout",
          "text": [
            "<class 'pandas.core.frame.DataFrame'>\n",
            "RangeIndex: 1999534 entries, 0 to 1999533\n",
            "Data columns (total 13 columns):\n",
            " #   Column            Dtype  \n",
            "---  ------            -----  \n",
            " 0   user_name         object \n",
            " 1   user_location     object \n",
            " 2   user_description  object \n",
            " 3   user_created      object \n",
            " 4   user_followers    float64\n",
            " 5   user_friends      object \n",
            " 6   user_favourites   object \n",
            " 7   user_verified     object \n",
            " 8   date              object \n",
            " 9   text              object \n",
            " 10  hashtags          object \n",
            " 11  source            object \n",
            " 12  is_retweet        object \n",
            "dtypes: float64(1), object(12)\n",
            "memory usage: 198.3+ MB\n"
          ]
        }
      ]
    },
    {
      "cell_type": "code",
      "source": [
        "# Understand 'user_description' column\n",
        "reader['user_description'].value_counts()"
      ],
      "metadata": {
        "id": "KQSKY_STO_XJ",
        "colab": {
          "base_uri": "https://localhost:8080/"
        },
        "outputId": "c12b91c5-e7a6-4760-bd26-d02285602f76"
      },
      "execution_count": null,
      "outputs": [
        {
          "output_type": "execute_result",
          "data": {
            "text/plain": [
              "The most advanced #BTC bitcoin tracker and analytics system reporting large and interesting transactions as they happen.                                                11439\n",
              "Fearless like a Honey Badger... Bears or Bulls not important we will fight This signals only testing... #DYOR, #YTD Telegram: https://t.co/9fgWpWZqbj                   10749\n",
              "#Bitcoin                                                                                                                                                                10390\n",
              "#bitcoin                                                                                                                                                                10251\n",
              "Breaking News. Bitcoin, Blockchain & Beyond. #bitcoin #blockchain #ethereum #cryptocurrency #crypto #trading #TA #charts $btc $eth                                       7926\n",
              "                                                                                                                                                                        ...  \n",
              "https://t.co/2VHsEVnNgu                                           \\nhttps://t.co/spRRhj7QRc   -   \\nhttps://t.co/TxHkEOTcsI                                                 1\n",
              "digital art since 1989, \\nhttps://t.co/jqADAud8oy, \\nhttps://t.co/TAOHTKSc3w                                                                                                1\n",
              "Welcome to Mighty Monster Club!\\nHome to 10 000 Unique NFTs for you to collect!\\nJoin The Club and hunt for the most sought after Mighty Monsters!\\n\\nReleasing soon        1\n",
              "It desire to take apart of richest life                                                                                                                                     1\n",
              "Steeler Nation #HereWeGo / \\nManchester United Red Devils /\\nSeattle Sounders #Sounders \\n\\nBurner account                                                                  1\n",
              "Name: user_description, Length: 323320, dtype: int64"
            ]
          },
          "metadata": {},
          "execution_count": 10
        }
      ]
    },
    {
      "cell_type": "markdown",
      "source": [
        "After inspection create data base to sentiment analyse\n",
        "\n",
        "1) hashtags column as well as user_name, \n",
        "user_location, \n",
        "user_description, \n",
        "user_created, \n",
        "user_followers, \n",
        "user_friends, \n",
        "user_favourites, \n",
        "user_verified, \n",
        "source and is_retweet columns shall be removed due to no interesting information\n",
        "\n",
        "2) data column shall be tretement because is target as object\n",
        "\n"
      ],
      "metadata": {
        "id": "qCKAr4fiSy46"
      }
    },
    {
      "cell_type": "code",
      "source": [
        "# Inspect 'source' column\n",
        "print(reader['source'].str.contains('bot').value_counts());\n",
        "print('#=#=#=#=#=#=#=', '\\n')\n",
        "reader['source'].value_counts()"
      ],
      "metadata": {
        "id": "ftyXiwfamGOp",
        "colab": {
          "base_uri": "https://localhost:8080/"
        },
        "outputId": "7369228d-1469-43c9-c787-2fa9ed7a0f53"
      },
      "execution_count": null,
      "outputs": [
        {
          "output_type": "stream",
          "name": "stdout",
          "text": [
            "False    1987838\n",
            "True        8154\n",
            "Name: source, dtype: int64\n",
            "#=#=#=#=#=#=#= \n",
            "\n"
          ]
        },
        {
          "output_type": "execute_result",
          "data": {
            "text/plain": [
              "Twitter for Android            575197\n",
              "Twitter Web App                524412\n",
              "Twitter for iPhone             391904\n",
              "IFTTT                           30944\n",
              "dlvr.it                         26063\n",
              "                                ...  \n",
              "VariantTweetPost                    1\n",
              "Twitter Search - Jenn Proos         1\n",
              "TalkBasket                          1\n",
              "TopHashtags                         1\n",
              "MickeyBlog.com Updates              1\n",
              "Name: source, Length: 1648, dtype: int64"
            ]
          },
          "metadata": {},
          "execution_count": 11
        }
      ]
    },
    {
      "cell_type": "code",
      "source": [
        "reader.loc[1489541]"
      ],
      "metadata": {
        "id": "_i0FiycavGlv",
        "colab": {
          "base_uri": "https://localhost:8080/"
        },
        "outputId": "eb6f019e-4eea-4aff-f342-7d8bf0872757"
      },
      "execution_count": null,
      "outputs": [
        {
          "output_type": "execute_result",
          "data": {
            "text/plain": [
              "user_name                                            Mempool Whales 🐋\n",
              "user_location                                                 Mempool\n",
              "user_description    I'm hunting whales in the #bitcoin mempool.\\nF...\n",
              "user_created                                      2021-03-31 21:03:05\n",
              "user_followers                                                    910\n",
              "user_friends                                                       62\n",
              "user_favourites                                                   509\n",
              "user_verified                                                   False\n",
              "date                                              2021-10-29 23:55:06\n",
              "text                🐋🐋🐋🐋🐋🐋\\n6992 #BTC (244.543.864 USD) will be tr...\n",
              "hashtags                                           ['BTC', 'bitcoin']\n",
              "source                                                     mempoolBot\n",
              "is_retweet                                                      False\n",
              "Name: 1489541, dtype: object"
            ]
          },
          "metadata": {},
          "execution_count": 12
        }
      ]
    },
    {
      "cell_type": "code",
      "source": [
        "reader['text'].loc[1489541]"
      ],
      "metadata": {
        "id": "ir88WZXtqODi",
        "colab": {
          "base_uri": "https://localhost:8080/",
          "height": 53
        },
        "outputId": "644eeb88-3311-4e98-b4a9-8a289cdbe4bd"
      },
      "execution_count": null,
      "outputs": [
        {
          "output_type": "execute_result",
          "data": {
            "application/vnd.google.colaboratory.intrinsic+json": {
              "type": "string"
            },
            "text/plain": [
              "'🐋🐋🐋🐋🐋🐋\\n6992 #BTC (244.543.864 USD) will be transfered from unknown wallet to unknown address (never used before)\\n\\nhttps://t.co/TpAQqFGIUb\\n#bitcoin'"
            ]
          },
          "metadata": {},
          "execution_count": 13
        }
      ]
    },
    {
      "cell_type": "code",
      "source": [
        "reader['user_description'].str.contains('hunting').value_counts()"
      ],
      "metadata": {
        "id": "1gLqSPuYwYma",
        "colab": {
          "base_uri": "https://localhost:8080/"
        },
        "outputId": "18a96c39-6650-4b52-c342-045e0415c20d"
      },
      "execution_count": null,
      "outputs": [
        {
          "output_type": "execute_result",
          "data": {
            "text/plain": [
              "False    1759281\n",
              "True        3067\n",
              "Name: user_description, dtype: int64"
            ]
          },
          "metadata": {},
          "execution_count": 14
        }
      ]
    },
    {
      "cell_type": "code",
      "source": [
        "reader['user_description'].str.contains('cryptobot').value_counts()"
      ],
      "metadata": {
        "id": "9EzTsIg1w1UW",
        "colab": {
          "base_uri": "https://localhost:8080/"
        },
        "outputId": "b44daa82-687f-4e05-bd06-51fb800c68c3"
      },
      "execution_count": null,
      "outputs": [
        {
          "output_type": "execute_result",
          "data": {
            "text/plain": [
              "False    1762323\n",
              "True          25\n",
              "Name: user_description, dtype: int64"
            ]
          },
          "metadata": {},
          "execution_count": 15
        }
      ]
    },
    {
      "cell_type": "code",
      "source": [
        "teste = reader.drop(reader['user_description'].str.contains('cryptobot').value_counts())#==False)\n",
        "teste"
      ],
      "metadata": {
        "id": "CPuhj-wzxm-4",
        "colab": {
          "base_uri": "https://localhost:8080/",
          "height": 904
        },
        "outputId": "bc3014e5-2fc4-4e0a-d17e-f3cc8fe3a189"
      },
      "execution_count": null,
      "outputs": [
        {
          "output_type": "execute_result",
          "data": {
            "text/html": [
              "\n",
              "  <div id=\"df-8a2d6144-007b-4cf1-b730-2b137e1253aa\">\n",
              "    <div class=\"colab-df-container\">\n",
              "      <div>\n",
              "<style scoped>\n",
              "    .dataframe tbody tr th:only-of-type {\n",
              "        vertical-align: middle;\n",
              "    }\n",
              "\n",
              "    .dataframe tbody tr th {\n",
              "        vertical-align: top;\n",
              "    }\n",
              "\n",
              "    .dataframe thead th {\n",
              "        text-align: right;\n",
              "    }\n",
              "</style>\n",
              "<table border=\"1\" class=\"dataframe\">\n",
              "  <thead>\n",
              "    <tr style=\"text-align: right;\">\n",
              "      <th></th>\n",
              "      <th>user_name</th>\n",
              "      <th>user_location</th>\n",
              "      <th>user_description</th>\n",
              "      <th>user_created</th>\n",
              "      <th>user_followers</th>\n",
              "      <th>user_friends</th>\n",
              "      <th>user_favourites</th>\n",
              "      <th>user_verified</th>\n",
              "      <th>date</th>\n",
              "      <th>text</th>\n",
              "      <th>hashtags</th>\n",
              "      <th>source</th>\n",
              "      <th>is_retweet</th>\n",
              "    </tr>\n",
              "  </thead>\n",
              "  <tbody>\n",
              "    <tr>\n",
              "      <th>0</th>\n",
              "      <td>DeSota Wilson</td>\n",
              "      <td>Atlanta, GA</td>\n",
              "      <td>Biz Consultant, real estate, fintech, startups...</td>\n",
              "      <td>2009-04-26 20:05:09</td>\n",
              "      <td>8534.0</td>\n",
              "      <td>7605</td>\n",
              "      <td>4838</td>\n",
              "      <td>False</td>\n",
              "      <td>2021-02-10 23:59:04</td>\n",
              "      <td>Blue Ridge Bank shares halted by NYSE after #b...</td>\n",
              "      <td>['bitcoin']</td>\n",
              "      <td>Twitter Web App</td>\n",
              "      <td>False</td>\n",
              "    </tr>\n",
              "    <tr>\n",
              "      <th>1</th>\n",
              "      <td>CryptoND</td>\n",
              "      <td>NaN</td>\n",
              "      <td>😎 BITCOINLIVE is a Dutch platform aimed at inf...</td>\n",
              "      <td>2019-10-17 20:12:10</td>\n",
              "      <td>6769.0</td>\n",
              "      <td>1532</td>\n",
              "      <td>25483</td>\n",
              "      <td>False</td>\n",
              "      <td>2021-02-10 23:58:48</td>\n",
              "      <td>😎 Today, that's this #Thursday, we will do a \"...</td>\n",
              "      <td>['Thursday', 'Btc', 'wallet', 'security']</td>\n",
              "      <td>Twitter for Android</td>\n",
              "      <td>False</td>\n",
              "    </tr>\n",
              "    <tr>\n",
              "      <th>2</th>\n",
              "      <td>Tdlmatias</td>\n",
              "      <td>London, England</td>\n",
              "      <td>IM Academy : The best #forex, #SelfEducation, ...</td>\n",
              "      <td>2014-11-10 10:50:37</td>\n",
              "      <td>128.0</td>\n",
              "      <td>332</td>\n",
              "      <td>924</td>\n",
              "      <td>False</td>\n",
              "      <td>2021-02-10 23:54:48</td>\n",
              "      <td>Guys evening, I have read this article about B...</td>\n",
              "      <td>NaN</td>\n",
              "      <td>Twitter Web App</td>\n",
              "      <td>False</td>\n",
              "    </tr>\n",
              "    <tr>\n",
              "      <th>3</th>\n",
              "      <td>Crypto is the future</td>\n",
              "      <td>NaN</td>\n",
              "      <td>I will post a lot of buying signals for BTC tr...</td>\n",
              "      <td>2019-09-28 16:48:12</td>\n",
              "      <td>625.0</td>\n",
              "      <td>129</td>\n",
              "      <td>14</td>\n",
              "      <td>False</td>\n",
              "      <td>2021-02-10 23:54:33</td>\n",
              "      <td>$BTC A big chance in a billion! Price: \\487264...</td>\n",
              "      <td>['Bitcoin', 'FX', 'BTC', 'crypto']</td>\n",
              "      <td>dlvr.it</td>\n",
              "      <td>False</td>\n",
              "    </tr>\n",
              "    <tr>\n",
              "      <th>4</th>\n",
              "      <td>Alex Kirchmaier 🇦🇹🇸🇪 #FactsSuperspreader</td>\n",
              "      <td>Europa</td>\n",
              "      <td>Co-founder @RENJERJerky | Forbes 30Under30 | I...</td>\n",
              "      <td>2016-02-03 13:15:55</td>\n",
              "      <td>1249.0</td>\n",
              "      <td>1472</td>\n",
              "      <td>10482</td>\n",
              "      <td>False</td>\n",
              "      <td>2021-02-10 23:54:06</td>\n",
              "      <td>This network is secured by 9 508 nodes as of t...</td>\n",
              "      <td>['BTC']</td>\n",
              "      <td>Twitter Web App</td>\n",
              "      <td>False</td>\n",
              "    </tr>\n",
              "    <tr>\n",
              "      <th>...</th>\n",
              "      <td>...</td>\n",
              "      <td>...</td>\n",
              "      <td>...</td>\n",
              "      <td>...</td>\n",
              "      <td>...</td>\n",
              "      <td>...</td>\n",
              "      <td>...</td>\n",
              "      <td>...</td>\n",
              "      <td>...</td>\n",
              "      <td>...</td>\n",
              "      <td>...</td>\n",
              "      <td>...</td>\n",
              "      <td>...</td>\n",
              "    </tr>\n",
              "    <tr>\n",
              "      <th>1999529</th>\n",
              "      <td>Oleg</td>\n",
              "      <td>NaN</td>\n",
              "      <td>https://t.co/1TtQwV1vwA</td>\n",
              "      <td>2011-11-23 16:10:16</td>\n",
              "      <td>529.0</td>\n",
              "      <td>42</td>\n",
              "      <td>155</td>\n",
              "      <td>False</td>\n",
              "      <td>2021-12-29 19:53:40</td>\n",
              "      <td>OlegBarca's Stream №547! Live in few mins!\\n\\n...</td>\n",
              "      <td>['stake', 'gambling', 'casino', 'btc']</td>\n",
              "      <td>Twitter Web App</td>\n",
              "      <td>False</td>\n",
              "    </tr>\n",
              "    <tr>\n",
              "      <th>1999530</th>\n",
              "      <td>Michael Scott 🟩</td>\n",
              "      <td>Pennsylvania</td>\n",
              "      <td>I love inside jokes. I hope to be a part of on...</td>\n",
              "      <td>2011-12-01 16:24:40</td>\n",
              "      <td>1117.0</td>\n",
              "      <td>47</td>\n",
              "      <td>537</td>\n",
              "      <td>False</td>\n",
              "      <td>2021-12-29 19:53:36</td>\n",
              "      <td>Crypto: MistToken\\nSymbol: #MistSwap \\nMistSwa...</td>\n",
              "      <td>['MistSwap', 'BCH', 'SmartBCH', 'Blockchain', ...</td>\n",
              "      <td>Twitter Web App</td>\n",
              "      <td>False</td>\n",
              "    </tr>\n",
              "    <tr>\n",
              "      <th>1999531</th>\n",
              "      <td>Alan</td>\n",
              "      <td>NaN</td>\n",
              "      <td>New journey , learning to trade 📈📉. Crypto &amp; S...</td>\n",
              "      <td>2020-11-27 11:57:34</td>\n",
              "      <td>26.0</td>\n",
              "      <td>336</td>\n",
              "      <td>1102</td>\n",
              "      <td>False</td>\n",
              "      <td>2021-12-29 19:53:33</td>\n",
              "      <td>Just 🔒 for 3x , what about you ? \\n\\n@AccelDef...</td>\n",
              "      <td>['btc', 'accel', 'Ethereum', 'Crypto', 'Crypto...</td>\n",
              "      <td>Twitter for iPhone</td>\n",
              "      <td>False</td>\n",
              "    </tr>\n",
              "    <tr>\n",
              "      <th>1999532</th>\n",
              "      <td>Inari gr</td>\n",
              "      <td>NaN</td>\n",
              "      <td>NaN</td>\n",
              "      <td>2021-11-17 03:13:48</td>\n",
              "      <td>67.0</td>\n",
              "      <td>415</td>\n",
              "      <td>3798</td>\n",
              "      <td>False</td>\n",
              "      <td>2021-12-29 19:53:31</td>\n",
              "      <td>@Bitboy_Crypto A $Inari Trailer Video has been...</td>\n",
              "      <td>['P2EGaming', 'sandbox', 'Mana', 'BTC', 'ETH',...</td>\n",
              "      <td>Twitter Web App</td>\n",
              "      <td>False</td>\n",
              "    </tr>\n",
              "    <tr>\n",
              "      <th>1999533</th>\n",
              "      <td>Leilani Pips™</td>\n",
              "      <td>Hawaii, USA</td>\n",
              "      <td>Queen of Momo.   I run the Pips To Dollars Tra...</td>\n",
              "      <td>2009-05-03 18:26:13</td>\n",
              "      <td>11162.0</td>\n",
              "      <td>315</td>\n",
              "      <td>50923</td>\n",
              "      <td>False</td>\n",
              "      <td>2021-12-29 19:53:31</td>\n",
              "      <td>CNBC has a crypto special tonight... you know ...</td>\n",
              "      <td>['BTC']</td>\n",
              "      <td>Twitter Web App</td>\n",
              "      <td>False</td>\n",
              "    </tr>\n",
              "  </tbody>\n",
              "</table>\n",
              "<p>1999532 rows × 13 columns</p>\n",
              "</div>\n",
              "      <button class=\"colab-df-convert\" onclick=\"convertToInteractive('df-8a2d6144-007b-4cf1-b730-2b137e1253aa')\"\n",
              "              title=\"Convert this dataframe to an interactive table.\"\n",
              "              style=\"display:none;\">\n",
              "        \n",
              "  <svg xmlns=\"http://www.w3.org/2000/svg\" height=\"24px\"viewBox=\"0 0 24 24\"\n",
              "       width=\"24px\">\n",
              "    <path d=\"M0 0h24v24H0V0z\" fill=\"none\"/>\n",
              "    <path d=\"M18.56 5.44l.94 2.06.94-2.06 2.06-.94-2.06-.94-.94-2.06-.94 2.06-2.06.94zm-11 1L8.5 8.5l.94-2.06 2.06-.94-2.06-.94L8.5 2.5l-.94 2.06-2.06.94zm10 10l.94 2.06.94-2.06 2.06-.94-2.06-.94-.94-2.06-.94 2.06-2.06.94z\"/><path d=\"M17.41 7.96l-1.37-1.37c-.4-.4-.92-.59-1.43-.59-.52 0-1.04.2-1.43.59L10.3 9.45l-7.72 7.72c-.78.78-.78 2.05 0 2.83L4 21.41c.39.39.9.59 1.41.59.51 0 1.02-.2 1.41-.59l7.78-7.78 2.81-2.81c.8-.78.8-2.07 0-2.86zM5.41 20L4 18.59l7.72-7.72 1.47 1.35L5.41 20z\"/>\n",
              "  </svg>\n",
              "      </button>\n",
              "      \n",
              "  <style>\n",
              "    .colab-df-container {\n",
              "      display:flex;\n",
              "      flex-wrap:wrap;\n",
              "      gap: 12px;\n",
              "    }\n",
              "\n",
              "    .colab-df-convert {\n",
              "      background-color: #E8F0FE;\n",
              "      border: none;\n",
              "      border-radius: 50%;\n",
              "      cursor: pointer;\n",
              "      display: none;\n",
              "      fill: #1967D2;\n",
              "      height: 32px;\n",
              "      padding: 0 0 0 0;\n",
              "      width: 32px;\n",
              "    }\n",
              "\n",
              "    .colab-df-convert:hover {\n",
              "      background-color: #E2EBFA;\n",
              "      box-shadow: 0px 1px 2px rgba(60, 64, 67, 0.3), 0px 1px 3px 1px rgba(60, 64, 67, 0.15);\n",
              "      fill: #174EA6;\n",
              "    }\n",
              "\n",
              "    [theme=dark] .colab-df-convert {\n",
              "      background-color: #3B4455;\n",
              "      fill: #D2E3FC;\n",
              "    }\n",
              "\n",
              "    [theme=dark] .colab-df-convert:hover {\n",
              "      background-color: #434B5C;\n",
              "      box-shadow: 0px 1px 3px 1px rgba(0, 0, 0, 0.15);\n",
              "      filter: drop-shadow(0px 1px 2px rgba(0, 0, 0, 0.3));\n",
              "      fill: #FFFFFF;\n",
              "    }\n",
              "  </style>\n",
              "\n",
              "      <script>\n",
              "        const buttonEl =\n",
              "          document.querySelector('#df-8a2d6144-007b-4cf1-b730-2b137e1253aa button.colab-df-convert');\n",
              "        buttonEl.style.display =\n",
              "          google.colab.kernel.accessAllowed ? 'block' : 'none';\n",
              "\n",
              "        async function convertToInteractive(key) {\n",
              "          const element = document.querySelector('#df-8a2d6144-007b-4cf1-b730-2b137e1253aa');\n",
              "          const dataTable =\n",
              "            await google.colab.kernel.invokeFunction('convertToInteractive',\n",
              "                                                     [key], {});\n",
              "          if (!dataTable) return;\n",
              "\n",
              "          const docLinkHtml = 'Like what you see? Visit the ' +\n",
              "            '<a target=\"_blank\" href=https://colab.research.google.com/notebooks/data_table.ipynb>data table notebook</a>'\n",
              "            + ' to learn more about interactive tables.';\n",
              "          element.innerHTML = '';\n",
              "          dataTable['output_type'] = 'display_data';\n",
              "          await google.colab.output.renderOutput(dataTable, element);\n",
              "          const docLink = document.createElement('div');\n",
              "          docLink.innerHTML = docLinkHtml;\n",
              "          element.appendChild(docLink);\n",
              "        }\n",
              "      </script>\n",
              "    </div>\n",
              "  </div>\n",
              "  "
            ],
            "text/plain": [
              "                                        user_name  ... is_retweet\n",
              "0                                   DeSota Wilson  ...      False\n",
              "1                                        CryptoND  ...      False\n",
              "2                                       Tdlmatias  ...      False\n",
              "3                            Crypto is the future  ...      False\n",
              "4        Alex Kirchmaier 🇦🇹🇸🇪 #FactsSuperspreader  ...      False\n",
              "...                                           ...  ...        ...\n",
              "1999529                                      Oleg  ...      False\n",
              "1999530                           Michael Scott 🟩  ...      False\n",
              "1999531                                      Alan  ...      False\n",
              "1999532                                  Inari gr  ...      False\n",
              "1999533                             Leilani Pips™  ...      False\n",
              "\n",
              "[1999532 rows x 13 columns]"
            ]
          },
          "metadata": {},
          "execution_count": 16
        }
      ]
    },
    {
      "cell_type": "code",
      "source": [
        "teste.info()"
      ],
      "metadata": {
        "id": "4xFDANa9Mgin",
        "colab": {
          "base_uri": "https://localhost:8080/"
        },
        "outputId": "ccac5bf1-4686-4f6e-9222-06a6db8b692d"
      },
      "execution_count": null,
      "outputs": [
        {
          "output_type": "stream",
          "name": "stdout",
          "text": [
            "<class 'pandas.core.frame.DataFrame'>\n",
            "Int64Index: 1999532 entries, 0 to 1999533\n",
            "Data columns (total 13 columns):\n",
            " #   Column            Dtype  \n",
            "---  ------            -----  \n",
            " 0   user_name         object \n",
            " 1   user_location     object \n",
            " 2   user_description  object \n",
            " 3   user_created      object \n",
            " 4   user_followers    float64\n",
            " 5   user_friends      object \n",
            " 6   user_favourites   object \n",
            " 7   user_verified     object \n",
            " 8   date              object \n",
            " 9   text              object \n",
            " 10  hashtags          object \n",
            " 11  source            object \n",
            " 12  is_retweet        object \n",
            "dtypes: float64(1), object(12)\n",
            "memory usage: 213.6+ MB\n"
          ]
        }
      ]
    },
    {
      "cell_type": "code",
      "source": [
        "df_full = reader.drop(columns = [ 'hashtags', \n",
        "                               'user_location', \n",
        "                               'user_name',\n",
        "                               'user_description', \n",
        "                               'user_created', \n",
        "                               'user_followers', \n",
        "                               'user_friends', \n",
        "                               'user_favourites', \n",
        "                               'user_verified', \n",
        "                               'source', 'is_retweet'])\n",
        "df_full.head(5)"
      ],
      "metadata": {
        "id": "_g-TFjRLRXqB",
        "colab": {
          "base_uri": "https://localhost:8080/",
          "height": 206
        },
        "outputId": "8b05a60b-a02e-40dd-c2aa-65d9127b358f"
      },
      "execution_count": null,
      "outputs": [
        {
          "output_type": "execute_result",
          "data": {
            "text/html": [
              "\n",
              "  <div id=\"df-8468ff8d-00ab-4114-8248-46475f17987b\">\n",
              "    <div class=\"colab-df-container\">\n",
              "      <div>\n",
              "<style scoped>\n",
              "    .dataframe tbody tr th:only-of-type {\n",
              "        vertical-align: middle;\n",
              "    }\n",
              "\n",
              "    .dataframe tbody tr th {\n",
              "        vertical-align: top;\n",
              "    }\n",
              "\n",
              "    .dataframe thead th {\n",
              "        text-align: right;\n",
              "    }\n",
              "</style>\n",
              "<table border=\"1\" class=\"dataframe\">\n",
              "  <thead>\n",
              "    <tr style=\"text-align: right;\">\n",
              "      <th></th>\n",
              "      <th>date</th>\n",
              "      <th>text</th>\n",
              "    </tr>\n",
              "  </thead>\n",
              "  <tbody>\n",
              "    <tr>\n",
              "      <th>0</th>\n",
              "      <td>2021-02-10 23:59:04</td>\n",
              "      <td>Blue Ridge Bank shares halted by NYSE after #b...</td>\n",
              "    </tr>\n",
              "    <tr>\n",
              "      <th>1</th>\n",
              "      <td>2021-02-10 23:58:48</td>\n",
              "      <td>😎 Today, that's this #Thursday, we will do a \"...</td>\n",
              "    </tr>\n",
              "    <tr>\n",
              "      <th>2</th>\n",
              "      <td>2021-02-10 23:54:48</td>\n",
              "      <td>Guys evening, I have read this article about B...</td>\n",
              "    </tr>\n",
              "    <tr>\n",
              "      <th>3</th>\n",
              "      <td>2021-02-10 23:54:33</td>\n",
              "      <td>$BTC A big chance in a billion! Price: \\487264...</td>\n",
              "    </tr>\n",
              "    <tr>\n",
              "      <th>4</th>\n",
              "      <td>2021-02-10 23:54:06</td>\n",
              "      <td>This network is secured by 9 508 nodes as of t...</td>\n",
              "    </tr>\n",
              "  </tbody>\n",
              "</table>\n",
              "</div>\n",
              "      <button class=\"colab-df-convert\" onclick=\"convertToInteractive('df-8468ff8d-00ab-4114-8248-46475f17987b')\"\n",
              "              title=\"Convert this dataframe to an interactive table.\"\n",
              "              style=\"display:none;\">\n",
              "        \n",
              "  <svg xmlns=\"http://www.w3.org/2000/svg\" height=\"24px\"viewBox=\"0 0 24 24\"\n",
              "       width=\"24px\">\n",
              "    <path d=\"M0 0h24v24H0V0z\" fill=\"none\"/>\n",
              "    <path d=\"M18.56 5.44l.94 2.06.94-2.06 2.06-.94-2.06-.94-.94-2.06-.94 2.06-2.06.94zm-11 1L8.5 8.5l.94-2.06 2.06-.94-2.06-.94L8.5 2.5l-.94 2.06-2.06.94zm10 10l.94 2.06.94-2.06 2.06-.94-2.06-.94-.94-2.06-.94 2.06-2.06.94z\"/><path d=\"M17.41 7.96l-1.37-1.37c-.4-.4-.92-.59-1.43-.59-.52 0-1.04.2-1.43.59L10.3 9.45l-7.72 7.72c-.78.78-.78 2.05 0 2.83L4 21.41c.39.39.9.59 1.41.59.51 0 1.02-.2 1.41-.59l7.78-7.78 2.81-2.81c.8-.78.8-2.07 0-2.86zM5.41 20L4 18.59l7.72-7.72 1.47 1.35L5.41 20z\"/>\n",
              "  </svg>\n",
              "      </button>\n",
              "      \n",
              "  <style>\n",
              "    .colab-df-container {\n",
              "      display:flex;\n",
              "      flex-wrap:wrap;\n",
              "      gap: 12px;\n",
              "    }\n",
              "\n",
              "    .colab-df-convert {\n",
              "      background-color: #E8F0FE;\n",
              "      border: none;\n",
              "      border-radius: 50%;\n",
              "      cursor: pointer;\n",
              "      display: none;\n",
              "      fill: #1967D2;\n",
              "      height: 32px;\n",
              "      padding: 0 0 0 0;\n",
              "      width: 32px;\n",
              "    }\n",
              "\n",
              "    .colab-df-convert:hover {\n",
              "      background-color: #E2EBFA;\n",
              "      box-shadow: 0px 1px 2px rgba(60, 64, 67, 0.3), 0px 1px 3px 1px rgba(60, 64, 67, 0.15);\n",
              "      fill: #174EA6;\n",
              "    }\n",
              "\n",
              "    [theme=dark] .colab-df-convert {\n",
              "      background-color: #3B4455;\n",
              "      fill: #D2E3FC;\n",
              "    }\n",
              "\n",
              "    [theme=dark] .colab-df-convert:hover {\n",
              "      background-color: #434B5C;\n",
              "      box-shadow: 0px 1px 3px 1px rgba(0, 0, 0, 0.15);\n",
              "      filter: drop-shadow(0px 1px 2px rgba(0, 0, 0, 0.3));\n",
              "      fill: #FFFFFF;\n",
              "    }\n",
              "  </style>\n",
              "\n",
              "      <script>\n",
              "        const buttonEl =\n",
              "          document.querySelector('#df-8468ff8d-00ab-4114-8248-46475f17987b button.colab-df-convert');\n",
              "        buttonEl.style.display =\n",
              "          google.colab.kernel.accessAllowed ? 'block' : 'none';\n",
              "\n",
              "        async function convertToInteractive(key) {\n",
              "          const element = document.querySelector('#df-8468ff8d-00ab-4114-8248-46475f17987b');\n",
              "          const dataTable =\n",
              "            await google.colab.kernel.invokeFunction('convertToInteractive',\n",
              "                                                     [key], {});\n",
              "          if (!dataTable) return;\n",
              "\n",
              "          const docLinkHtml = 'Like what you see? Visit the ' +\n",
              "            '<a target=\"_blank\" href=https://colab.research.google.com/notebooks/data_table.ipynb>data table notebook</a>'\n",
              "            + ' to learn more about interactive tables.';\n",
              "          element.innerHTML = '';\n",
              "          dataTable['output_type'] = 'display_data';\n",
              "          await google.colab.output.renderOutput(dataTable, element);\n",
              "          const docLink = document.createElement('div');\n",
              "          docLink.innerHTML = docLinkHtml;\n",
              "          element.appendChild(docLink);\n",
              "        }\n",
              "      </script>\n",
              "    </div>\n",
              "  </div>\n",
              "  "
            ],
            "text/plain": [
              "                  date                                               text\n",
              "0  2021-02-10 23:59:04  Blue Ridge Bank shares halted by NYSE after #b...\n",
              "1  2021-02-10 23:58:48  😎 Today, that's this #Thursday, we will do a \"...\n",
              "2  2021-02-10 23:54:48  Guys evening, I have read this article about B...\n",
              "3  2021-02-10 23:54:33  $BTC A big chance in a billion! Price: \\487264...\n",
              "4  2021-02-10 23:54:06  This network is secured by 9 508 nodes as of t..."
            ]
          },
          "metadata": {},
          "execution_count": 18
        }
      ]
    },
    {
      "cell_type": "code",
      "source": [
        "df_full.shape"
      ],
      "metadata": {
        "id": "W5-P366dirtN",
        "colab": {
          "base_uri": "https://localhost:8080/"
        },
        "outputId": "692ad4e8-8e88-4889-ded4-ecb4caa5afdd"
      },
      "execution_count": null,
      "outputs": [
        {
          "output_type": "execute_result",
          "data": {
            "text/plain": [
              "(1999534, 2)"
            ]
          },
          "metadata": {},
          "execution_count": 19
        }
      ]
    },
    {
      "cell_type": "code",
      "source": [
        "# Initially miminaze data frame dimension in a sense to facilitate make quick investigations and operation. \n",
        "# After script finished the pipelini will be run on full data base\n",
        "\n",
        "df=df_full#[0:200]\n",
        "print(df.shape)\n",
        "df.head(5)\n"
      ],
      "metadata": {
        "id": "s9wHsgqRliEA",
        "colab": {
          "base_uri": "https://localhost:8080/",
          "height": 224
        },
        "outputId": "ad1ecbca-f143-4faf-eeff-83cdecff8cd5"
      },
      "execution_count": null,
      "outputs": [
        {
          "output_type": "stream",
          "name": "stdout",
          "text": [
            "(1999534, 2)\n"
          ]
        },
        {
          "output_type": "execute_result",
          "data": {
            "text/html": [
              "\n",
              "  <div id=\"df-12a0a68f-7872-49f6-9e3d-43ca1362df26\">\n",
              "    <div class=\"colab-df-container\">\n",
              "      <div>\n",
              "<style scoped>\n",
              "    .dataframe tbody tr th:only-of-type {\n",
              "        vertical-align: middle;\n",
              "    }\n",
              "\n",
              "    .dataframe tbody tr th {\n",
              "        vertical-align: top;\n",
              "    }\n",
              "\n",
              "    .dataframe thead th {\n",
              "        text-align: right;\n",
              "    }\n",
              "</style>\n",
              "<table border=\"1\" class=\"dataframe\">\n",
              "  <thead>\n",
              "    <tr style=\"text-align: right;\">\n",
              "      <th></th>\n",
              "      <th>date</th>\n",
              "      <th>text</th>\n",
              "    </tr>\n",
              "  </thead>\n",
              "  <tbody>\n",
              "    <tr>\n",
              "      <th>0</th>\n",
              "      <td>2021-02-10 23:59:04</td>\n",
              "      <td>Blue Ridge Bank shares halted by NYSE after #b...</td>\n",
              "    </tr>\n",
              "    <tr>\n",
              "      <th>1</th>\n",
              "      <td>2021-02-10 23:58:48</td>\n",
              "      <td>😎 Today, that's this #Thursday, we will do a \"...</td>\n",
              "    </tr>\n",
              "    <tr>\n",
              "      <th>2</th>\n",
              "      <td>2021-02-10 23:54:48</td>\n",
              "      <td>Guys evening, I have read this article about B...</td>\n",
              "    </tr>\n",
              "    <tr>\n",
              "      <th>3</th>\n",
              "      <td>2021-02-10 23:54:33</td>\n",
              "      <td>$BTC A big chance in a billion! Price: \\487264...</td>\n",
              "    </tr>\n",
              "    <tr>\n",
              "      <th>4</th>\n",
              "      <td>2021-02-10 23:54:06</td>\n",
              "      <td>This network is secured by 9 508 nodes as of t...</td>\n",
              "    </tr>\n",
              "  </tbody>\n",
              "</table>\n",
              "</div>\n",
              "      <button class=\"colab-df-convert\" onclick=\"convertToInteractive('df-12a0a68f-7872-49f6-9e3d-43ca1362df26')\"\n",
              "              title=\"Convert this dataframe to an interactive table.\"\n",
              "              style=\"display:none;\">\n",
              "        \n",
              "  <svg xmlns=\"http://www.w3.org/2000/svg\" height=\"24px\"viewBox=\"0 0 24 24\"\n",
              "       width=\"24px\">\n",
              "    <path d=\"M0 0h24v24H0V0z\" fill=\"none\"/>\n",
              "    <path d=\"M18.56 5.44l.94 2.06.94-2.06 2.06-.94-2.06-.94-.94-2.06-.94 2.06-2.06.94zm-11 1L8.5 8.5l.94-2.06 2.06-.94-2.06-.94L8.5 2.5l-.94 2.06-2.06.94zm10 10l.94 2.06.94-2.06 2.06-.94-2.06-.94-.94-2.06-.94 2.06-2.06.94z\"/><path d=\"M17.41 7.96l-1.37-1.37c-.4-.4-.92-.59-1.43-.59-.52 0-1.04.2-1.43.59L10.3 9.45l-7.72 7.72c-.78.78-.78 2.05 0 2.83L4 21.41c.39.39.9.59 1.41.59.51 0 1.02-.2 1.41-.59l7.78-7.78 2.81-2.81c.8-.78.8-2.07 0-2.86zM5.41 20L4 18.59l7.72-7.72 1.47 1.35L5.41 20z\"/>\n",
              "  </svg>\n",
              "      </button>\n",
              "      \n",
              "  <style>\n",
              "    .colab-df-container {\n",
              "      display:flex;\n",
              "      flex-wrap:wrap;\n",
              "      gap: 12px;\n",
              "    }\n",
              "\n",
              "    .colab-df-convert {\n",
              "      background-color: #E8F0FE;\n",
              "      border: none;\n",
              "      border-radius: 50%;\n",
              "      cursor: pointer;\n",
              "      display: none;\n",
              "      fill: #1967D2;\n",
              "      height: 32px;\n",
              "      padding: 0 0 0 0;\n",
              "      width: 32px;\n",
              "    }\n",
              "\n",
              "    .colab-df-convert:hover {\n",
              "      background-color: #E2EBFA;\n",
              "      box-shadow: 0px 1px 2px rgba(60, 64, 67, 0.3), 0px 1px 3px 1px rgba(60, 64, 67, 0.15);\n",
              "      fill: #174EA6;\n",
              "    }\n",
              "\n",
              "    [theme=dark] .colab-df-convert {\n",
              "      background-color: #3B4455;\n",
              "      fill: #D2E3FC;\n",
              "    }\n",
              "\n",
              "    [theme=dark] .colab-df-convert:hover {\n",
              "      background-color: #434B5C;\n",
              "      box-shadow: 0px 1px 3px 1px rgba(0, 0, 0, 0.15);\n",
              "      filter: drop-shadow(0px 1px 2px rgba(0, 0, 0, 0.3));\n",
              "      fill: #FFFFFF;\n",
              "    }\n",
              "  </style>\n",
              "\n",
              "      <script>\n",
              "        const buttonEl =\n",
              "          document.querySelector('#df-12a0a68f-7872-49f6-9e3d-43ca1362df26 button.colab-df-convert');\n",
              "        buttonEl.style.display =\n",
              "          google.colab.kernel.accessAllowed ? 'block' : 'none';\n",
              "\n",
              "        async function convertToInteractive(key) {\n",
              "          const element = document.querySelector('#df-12a0a68f-7872-49f6-9e3d-43ca1362df26');\n",
              "          const dataTable =\n",
              "            await google.colab.kernel.invokeFunction('convertToInteractive',\n",
              "                                                     [key], {});\n",
              "          if (!dataTable) return;\n",
              "\n",
              "          const docLinkHtml = 'Like what you see? Visit the ' +\n",
              "            '<a target=\"_blank\" href=https://colab.research.google.com/notebooks/data_table.ipynb>data table notebook</a>'\n",
              "            + ' to learn more about interactive tables.';\n",
              "          element.innerHTML = '';\n",
              "          dataTable['output_type'] = 'display_data';\n",
              "          await google.colab.output.renderOutput(dataTable, element);\n",
              "          const docLink = document.createElement('div');\n",
              "          docLink.innerHTML = docLinkHtml;\n",
              "          element.appendChild(docLink);\n",
              "        }\n",
              "      </script>\n",
              "    </div>\n",
              "  </div>\n",
              "  "
            ],
            "text/plain": [
              "                  date                                               text\n",
              "0  2021-02-10 23:59:04  Blue Ridge Bank shares halted by NYSE after #b...\n",
              "1  2021-02-10 23:58:48  😎 Today, that's this #Thursday, we will do a \"...\n",
              "2  2021-02-10 23:54:48  Guys evening, I have read this article about B...\n",
              "3  2021-02-10 23:54:33  $BTC A big chance in a billion! Price: \\487264...\n",
              "4  2021-02-10 23:54:06  This network is secured by 9 508 nodes as of t..."
            ]
          },
          "metadata": {},
          "execution_count": 20
        }
      ]
    },
    {
      "cell_type": "code",
      "metadata": {
        "_uuid": "7f04659c5285e7235c14324c8558bc7f11e2922c",
        "_cell_guid": "59b34b3d-fc77-4f75-98e9-cac3b7c87c8d",
        "trusted": false,
        "id": "_Oa8LgLSPJg6",
        "colab": {
          "base_uri": "https://localhost:8080/",
          "height": 206
        },
        "outputId": "64bd2572-ad8b-4002-ff05-597a1f243ff3"
      },
      "source": [
        "# Inspection text length and create column\n",
        "df['text_length'] = df['text'].apply(len)\n",
        "df[['date','text_length','text']].head()"
      ],
      "execution_count": null,
      "outputs": [
        {
          "output_type": "execute_result",
          "data": {
            "text/html": [
              "\n",
              "  <div id=\"df-ee766517-cdf0-47dd-b1a0-b4525303d2a8\">\n",
              "    <div class=\"colab-df-container\">\n",
              "      <div>\n",
              "<style scoped>\n",
              "    .dataframe tbody tr th:only-of-type {\n",
              "        vertical-align: middle;\n",
              "    }\n",
              "\n",
              "    .dataframe tbody tr th {\n",
              "        vertical-align: top;\n",
              "    }\n",
              "\n",
              "    .dataframe thead th {\n",
              "        text-align: right;\n",
              "    }\n",
              "</style>\n",
              "<table border=\"1\" class=\"dataframe\">\n",
              "  <thead>\n",
              "    <tr style=\"text-align: right;\">\n",
              "      <th></th>\n",
              "      <th>date</th>\n",
              "      <th>text_length</th>\n",
              "      <th>text</th>\n",
              "    </tr>\n",
              "  </thead>\n",
              "  <tbody>\n",
              "    <tr>\n",
              "      <th>0</th>\n",
              "      <td>2021-02-10 23:59:04</td>\n",
              "      <td>135</td>\n",
              "      <td>Blue Ridge Bank shares halted by NYSE after #b...</td>\n",
              "    </tr>\n",
              "    <tr>\n",
              "      <th>1</th>\n",
              "      <td>2021-02-10 23:58:48</td>\n",
              "      <td>140</td>\n",
              "      <td>😎 Today, that's this #Thursday, we will do a \"...</td>\n",
              "    </tr>\n",
              "    <tr>\n",
              "      <th>2</th>\n",
              "      <td>2021-02-10 23:54:48</td>\n",
              "      <td>136</td>\n",
              "      <td>Guys evening, I have read this article about B...</td>\n",
              "    </tr>\n",
              "    <tr>\n",
              "      <th>3</th>\n",
              "      <td>2021-02-10 23:54:33</td>\n",
              "      <td>94</td>\n",
              "      <td>$BTC A big chance in a billion! Price: \\487264...</td>\n",
              "    </tr>\n",
              "    <tr>\n",
              "      <th>4</th>\n",
              "      <td>2021-02-10 23:54:06</td>\n",
              "      <td>140</td>\n",
              "      <td>This network is secured by 9 508 nodes as of t...</td>\n",
              "    </tr>\n",
              "  </tbody>\n",
              "</table>\n",
              "</div>\n",
              "      <button class=\"colab-df-convert\" onclick=\"convertToInteractive('df-ee766517-cdf0-47dd-b1a0-b4525303d2a8')\"\n",
              "              title=\"Convert this dataframe to an interactive table.\"\n",
              "              style=\"display:none;\">\n",
              "        \n",
              "  <svg xmlns=\"http://www.w3.org/2000/svg\" height=\"24px\"viewBox=\"0 0 24 24\"\n",
              "       width=\"24px\">\n",
              "    <path d=\"M0 0h24v24H0V0z\" fill=\"none\"/>\n",
              "    <path d=\"M18.56 5.44l.94 2.06.94-2.06 2.06-.94-2.06-.94-.94-2.06-.94 2.06-2.06.94zm-11 1L8.5 8.5l.94-2.06 2.06-.94-2.06-.94L8.5 2.5l-.94 2.06-2.06.94zm10 10l.94 2.06.94-2.06 2.06-.94-2.06-.94-.94-2.06-.94 2.06-2.06.94z\"/><path d=\"M17.41 7.96l-1.37-1.37c-.4-.4-.92-.59-1.43-.59-.52 0-1.04.2-1.43.59L10.3 9.45l-7.72 7.72c-.78.78-.78 2.05 0 2.83L4 21.41c.39.39.9.59 1.41.59.51 0 1.02-.2 1.41-.59l7.78-7.78 2.81-2.81c.8-.78.8-2.07 0-2.86zM5.41 20L4 18.59l7.72-7.72 1.47 1.35L5.41 20z\"/>\n",
              "  </svg>\n",
              "      </button>\n",
              "      \n",
              "  <style>\n",
              "    .colab-df-container {\n",
              "      display:flex;\n",
              "      flex-wrap:wrap;\n",
              "      gap: 12px;\n",
              "    }\n",
              "\n",
              "    .colab-df-convert {\n",
              "      background-color: #E8F0FE;\n",
              "      border: none;\n",
              "      border-radius: 50%;\n",
              "      cursor: pointer;\n",
              "      display: none;\n",
              "      fill: #1967D2;\n",
              "      height: 32px;\n",
              "      padding: 0 0 0 0;\n",
              "      width: 32px;\n",
              "    }\n",
              "\n",
              "    .colab-df-convert:hover {\n",
              "      background-color: #E2EBFA;\n",
              "      box-shadow: 0px 1px 2px rgba(60, 64, 67, 0.3), 0px 1px 3px 1px rgba(60, 64, 67, 0.15);\n",
              "      fill: #174EA6;\n",
              "    }\n",
              "\n",
              "    [theme=dark] .colab-df-convert {\n",
              "      background-color: #3B4455;\n",
              "      fill: #D2E3FC;\n",
              "    }\n",
              "\n",
              "    [theme=dark] .colab-df-convert:hover {\n",
              "      background-color: #434B5C;\n",
              "      box-shadow: 0px 1px 3px 1px rgba(0, 0, 0, 0.15);\n",
              "      filter: drop-shadow(0px 1px 2px rgba(0, 0, 0, 0.3));\n",
              "      fill: #FFFFFF;\n",
              "    }\n",
              "  </style>\n",
              "\n",
              "      <script>\n",
              "        const buttonEl =\n",
              "          document.querySelector('#df-ee766517-cdf0-47dd-b1a0-b4525303d2a8 button.colab-df-convert');\n",
              "        buttonEl.style.display =\n",
              "          google.colab.kernel.accessAllowed ? 'block' : 'none';\n",
              "\n",
              "        async function convertToInteractive(key) {\n",
              "          const element = document.querySelector('#df-ee766517-cdf0-47dd-b1a0-b4525303d2a8');\n",
              "          const dataTable =\n",
              "            await google.colab.kernel.invokeFunction('convertToInteractive',\n",
              "                                                     [key], {});\n",
              "          if (!dataTable) return;\n",
              "\n",
              "          const docLinkHtml = 'Like what you see? Visit the ' +\n",
              "            '<a target=\"_blank\" href=https://colab.research.google.com/notebooks/data_table.ipynb>data table notebook</a>'\n",
              "            + ' to learn more about interactive tables.';\n",
              "          element.innerHTML = '';\n",
              "          dataTable['output_type'] = 'display_data';\n",
              "          await google.colab.output.renderOutput(dataTable, element);\n",
              "          const docLink = document.createElement('div');\n",
              "          docLink.innerHTML = docLinkHtml;\n",
              "          element.appendChild(docLink);\n",
              "        }\n",
              "      </script>\n",
              "    </div>\n",
              "  </div>\n",
              "  "
            ],
            "text/plain": [
              "                  date  ...                                               text\n",
              "0  2021-02-10 23:59:04  ...  Blue Ridge Bank shares halted by NYSE after #b...\n",
              "1  2021-02-10 23:58:48  ...  😎 Today, that's this #Thursday, we will do a \"...\n",
              "2  2021-02-10 23:54:48  ...  Guys evening, I have read this article about B...\n",
              "3  2021-02-10 23:54:33  ...  $BTC A big chance in a billion! Price: \\487264...\n",
              "4  2021-02-10 23:54:06  ...  This network is secured by 9 508 nodes as of t...\n",
              "\n",
              "[5 rows x 3 columns]"
            ]
          },
          "metadata": {},
          "execution_count": 21
        }
      ]
    },
    {
      "cell_type": "code",
      "metadata": {
        "_uuid": "95a99136765d0708fb02670cb5969680373685d7",
        "_cell_guid": "ee84e678-7cac-49e1-8dae-9d9567aa9ee5",
        "trusted": false,
        "id": "bkrjc-F8PJg8",
        "colab": {
          "base_uri": "https://localhost:8080/"
        },
        "outputId": "72250c46-5bdd-4153-f760-57a641d90e40"
      },
      "source": [
        "# Identify minimum and maximum text lenght\n",
        "df['text_length'].describe()"
      ],
      "execution_count": null,
      "outputs": [
        {
          "output_type": "execute_result",
          "data": {
            "text/plain": [
              "count    1.999534e+06\n",
              "mean     1.821057e+02\n",
              "std      8.196424e+01\n",
              "min      9.000000e+00\n",
              "25%      1.170000e+02\n",
              "50%      1.810000e+02\n",
              "75%      2.570000e+02\n",
              "max      9.690000e+02\n",
              "Name: text_length, dtype: float64"
            ]
          },
          "metadata": {},
          "execution_count": 22
        }
      ]
    },
    {
      "cell_type": "code",
      "metadata": {
        "_uuid": "74a798caa157f18952d3a9ff84db0c50db2954a2",
        "_cell_guid": "cc4001ae-92d2-4933-8ed1-c416e3d03d71",
        "trusted": false,
        "id": "DKhtxwQ3PJg-",
        "colab": {
          "base_uri": "https://localhost:8080/",
          "height": 282
        },
        "outputId": "3a5eac3c-e76c-450f-fbc7-20d2e490dbcd"
      },
      "source": [
        "# quantify text lenght\n",
        "df['text_length'].hist(bins=50)"
      ],
      "execution_count": null,
      "outputs": [
        {
          "output_type": "execute_result",
          "data": {
            "text/plain": [
              "<matplotlib.axes._subplots.AxesSubplot at 0x7fb6942e7f50>"
            ]
          },
          "metadata": {},
          "execution_count": 23
        },
        {
          "output_type": "display_data",
          "data": {
            "image/png": "[encoded data removed]",
            "text/plain": [
              "<Figure size 432x288 with 1 Axes>"
            ]
          },
          "metadata": {
            "needs_background": "light"
          }
        }
      ]
    },
    {
      "cell_type": "markdown",
      "source": [
        "# Pre processing data\n",
        "\n",
        "RegEx documentation: [RegEx (Regular Expression)](https://docs.python.org/3/library/re.html):\n",
        "\n",
        "RegEx application: https://amitness.com/regex/\n"
      ],
      "metadata": {
        "id": "VrGPIbhDWSK0"
      }
    },
    {
      "cell_type": "code",
      "source": [
        "!pip install unidecode\n",
        "\n",
        "import nltk\n",
        "nltk.download('stopwords')\n",
        "import nltk\n",
        "nltk.download('punkt')\n",
        "from unidecode import unidecode\n",
        "import re\n",
        "from nltk.tokenize import word_tokenize\n",
        "from nltk.corpus import stopwords\n",
        "from nltk.stem.porter import *\n",
        "from wordcloud import WordCloud\n"
      ],
      "metadata": {
        "id": "ixpSufETUT3w",
        "colab": {
          "base_uri": "https://localhost:8080/"
        },
        "outputId": "dfdc31e1-73a8-44b2-ad89-bfb6345f2b89"
      },
      "execution_count": null,
      "outputs": [
        {
          "output_type": "stream",
          "name": "stdout",
          "text": [
            "Collecting unidecode\n",
            "  Downloading Unidecode-1.3.2-py3-none-any.whl (235 kB)\n",
            "\u001b[?25l\r\u001b[K     |█▍                              | 10 kB 22.1 MB/s eta 0:00:01\r\u001b[K     |██▉                             | 20 kB 16.4 MB/s eta 0:00:01\r\u001b[K     |████▏                           | 30 kB 10.1 MB/s eta 0:00:01\r\u001b[K     |█████▋                          | 40 kB 8.2 MB/s eta 0:00:01\r\u001b[K     |███████                         | 51 kB 5.3 MB/s eta 0:00:01\r\u001b[K     |████████▍                       | 61 kB 5.4 MB/s eta 0:00:01\r\u001b[K     |█████████▊                      | 71 kB 5.4 MB/s eta 0:00:01\r\u001b[K     |███████████▏                    | 81 kB 6.1 MB/s eta 0:00:01\r\u001b[K     |████████████▌                   | 92 kB 6.1 MB/s eta 0:00:01\r\u001b[K     |██████████████                  | 102 kB 5.2 MB/s eta 0:00:01\r\u001b[K     |███████████████▎                | 112 kB 5.2 MB/s eta 0:00:01\r\u001b[K     |████████████████▊               | 122 kB 5.2 MB/s eta 0:00:01\r\u001b[K     |██████████████████              | 133 kB 5.2 MB/s eta 0:00:01\r\u001b[K     |███████████████████▌            | 143 kB 5.2 MB/s eta 0:00:01\r\u001b[K     |████████████████████▉           | 153 kB 5.2 MB/s eta 0:00:01\r\u001b[K     |██████████████████████▎         | 163 kB 5.2 MB/s eta 0:00:01\r\u001b[K     |███████████████████████▋        | 174 kB 5.2 MB/s eta 0:00:01\r\u001b[K     |█████████████████████████       | 184 kB 5.2 MB/s eta 0:00:01\r\u001b[K     |██████████████████████████▍     | 194 kB 5.2 MB/s eta 0:00:01\r\u001b[K     |███████████████████████████▉    | 204 kB 5.2 MB/s eta 0:00:01\r\u001b[K     |█████████████████████████████▏  | 215 kB 5.2 MB/s eta 0:00:01\r\u001b[K     |██████████████████████████████▋ | 225 kB 5.2 MB/s eta 0:00:01\r\u001b[K     |████████████████████████████████| 235 kB 5.2 MB/s eta 0:00:01\r\u001b[K     |████████████████████████████████| 235 kB 5.2 MB/s \n",
            "\u001b[?25hInstalling collected packages: unidecode\n",
            "Successfully installed unidecode-1.3.2\n",
            "[nltk_data] Downloading package stopwords to /root/nltk_data...\n",
            "[nltk_data]   Unzipping corpora/stopwords.zip.\n",
            "[nltk_data] Downloading package punkt to /root/nltk_data...\n",
            "[nltk_data]   Unzipping tokenizers/punkt.zip.\n"
          ]
        }
      ]
    },
    {
      "cell_type": "code",
      "source": [
        "#pipeline - text pre-treatment\n",
        "def processtext(text, stemmer, stopwords=nltk.corpus.stopwords.words('english')):\n",
        "  ###\n",
        "  # remove accentuation\n",
        "  text = unidecode(text)\n",
        "  ###\n",
        "  #Convert www.* or https?://* to URL\n",
        "  text = re.sub('((www\\.[^\\s]+)|(https?://[^\\s]+))','URL',text)\n",
        "  # Remove Numbers\n",
        "  text = re.sub(r'\\d', '', text)\n",
        "  ###\n",
        "  #Convert @username to AT_USER\n",
        "  text = re.sub('@[^\\s]+','AT_USER',text)\n",
        "  ###\n",
        "  # Remove Special Characters\n",
        "  text = re.sub(r\"[^a-zA-Z0-9]+\", ' ', text)\n",
        "  ###\n",
        "  # Lowercase words\n",
        "  text = text.lower()\n",
        "  ###\n",
        "  # Word Tokenize\n",
        "  words = word_tokenize(text)\n",
        "  ###\n",
        "  # Remove Stopwords\n",
        "  filtered_words = []\n",
        "  for w in words:\n",
        "    if w not in stopwords:\n",
        "      filtered_words.append(w)\n",
        "  ###\n",
        "  # Stemming Words\n",
        "  stem_words = []\n",
        "  for w in filtered_words:\n",
        "    s_words = stemmer.stem(w)\n",
        "    stem_words.append(s_words)\n",
        "  ###\n",
        "#  # Lemmatizing Words\n",
        "#  lema_words = []\n",
        "#  for w in filtered_words:\n",
        "#      l_words = lemmatizer.lemmatize(w)\n",
        "#      lema_words.append(l_words)\n",
        "  ###\n",
        "#end\n",
        "  return stem_words"
      ],
      "metadata": {
        "id": "NbBiloj6LvMI"
      },
      "execution_count": null,
      "outputs": []
    },
    {
      "cell_type": "code",
      "source": [
        "# define Text Normalization\n",
        "stemmer = PorterStemmer()\n",
        "#lemmatizer = WordNetLemmatizer()\n",
        "\n",
        "# Call pipeline function to pre processing text and insert in a new column\n",
        "df[\"filtered_words\"] = df['text'].apply(lambda x: processtext(x, stemmer))\n",
        "\n",
        "# for each string join the words in a new column\n",
        "#df['join_words'] = df['filtered_words'].apply(lambda x: ' '.join(x))"
      ],
      "metadata": {
        "id": "teGBrz4iwn-t"
      },
      "execution_count": null,
      "outputs": []
    },
    {
      "cell_type": "code",
      "source": [
        "df.head(5)"
      ],
      "metadata": {
        "id": "PmsJpbMDwhMZ",
        "colab": {
          "base_uri": "https://localhost:8080/"
        },
        "outputId": "06959735-bc44-484c-a191-603877b1ea4f"
      },
      "execution_count": null,
      "outputs": [
        {
          "output_type": "execute_result",
          "data": {
            "text/html": [
              "\n",
              "  <div id=\"df-489858c2-f29d-4d55-91df-ff977f5e57e6\">\n",
              "    <div class=\"colab-df-container\">\n",
              "      <div>\n",
              "<style scoped>\n",
              "    .dataframe tbody tr th:only-of-type {\n",
              "        vertical-align: middle;\n",
              "    }\n",
              "\n",
              "    .dataframe tbody tr th {\n",
              "        vertical-align: top;\n",
              "    }\n",
              "\n",
              "    .dataframe thead th {\n",
              "        text-align: right;\n",
              "    }\n",
              "</style>\n",
              "<table border=\"1\" class=\"dataframe\">\n",
              "  <thead>\n",
              "    <tr style=\"text-align: right;\">\n",
              "      <th></th>\n",
              "      <th>date</th>\n",
              "      <th>text</th>\n",
              "      <th>text_length</th>\n",
              "      <th>filtered_words</th>\n",
              "    </tr>\n",
              "  </thead>\n",
              "  <tbody>\n",
              "    <tr>\n",
              "      <th>0</th>\n",
              "      <td>2021-02-10 23:59:04</td>\n",
              "      <td>Blue Ridge Bank shares halted by NYSE after #b...</td>\n",
              "      <td>135</td>\n",
              "      <td>[blue, ridg, bank, share, halt, nyse, bitcoin,...</td>\n",
              "    </tr>\n",
              "    <tr>\n",
              "      <th>1</th>\n",
              "      <td>2021-02-10 23:58:48</td>\n",
              "      <td>😎 Today, that's this #Thursday, we will do a \"...</td>\n",
              "      <td>140</td>\n",
              "      <td>[today, thursday, take, friend, user, btc, wal...</td>\n",
              "    </tr>\n",
              "    <tr>\n",
              "      <th>2</th>\n",
              "      <td>2021-02-10 23:54:48</td>\n",
              "      <td>Guys evening, I have read this article about B...</td>\n",
              "      <td>136</td>\n",
              "      <td>[guy, even, read, articl, btc, would, like, sh...</td>\n",
              "    </tr>\n",
              "    <tr>\n",
              "      <th>3</th>\n",
              "      <td>2021-02-10 23:54:33</td>\n",
              "      <td>$BTC A big chance in a billion! Price: \\487264...</td>\n",
              "      <td>94</td>\n",
              "      <td>[btc, big, chanc, billion, price, bitcoin, fx,...</td>\n",
              "    </tr>\n",
              "    <tr>\n",
              "      <th>4</th>\n",
              "      <td>2021-02-10 23:54:06</td>\n",
              "      <td>This network is secured by 9 508 nodes as of t...</td>\n",
              "      <td>140</td>\n",
              "      <td>[network, secur, node, today, soon, biggest, b...</td>\n",
              "    </tr>\n",
              "  </tbody>\n",
              "</table>\n",
              "</div>\n",
              "      <button class=\"colab-df-convert\" onclick=\"convertToInteractive('df-489858c2-f29d-4d55-91df-ff977f5e57e6')\"\n",
              "              title=\"Convert this dataframe to an interactive table.\"\n",
              "              style=\"display:none;\">\n",
              "        \n",
              "  <svg xmlns=\"http://www.w3.org/2000/svg\" height=\"24px\"viewBox=\"0 0 24 24\"\n",
              "       width=\"24px\">\n",
              "    <path d=\"M0 0h24v24H0V0z\" fill=\"none\"/>\n",
              "    <path d=\"M18.56 5.44l.94 2.06.94-2.06 2.06-.94-2.06-.94-.94-2.06-.94 2.06-2.06.94zm-11 1L8.5 8.5l.94-2.06 2.06-.94-2.06-.94L8.5 2.5l-.94 2.06-2.06.94zm10 10l.94 2.06.94-2.06 2.06-.94-2.06-.94-.94-2.06-.94 2.06-2.06.94z\"/><path d=\"M17.41 7.96l-1.37-1.37c-.4-.4-.92-.59-1.43-.59-.52 0-1.04.2-1.43.59L10.3 9.45l-7.72 7.72c-.78.78-.78 2.05 0 2.83L4 21.41c.39.39.9.59 1.41.59.51 0 1.02-.2 1.41-.59l7.78-7.78 2.81-2.81c.8-.78.8-2.07 0-2.86zM5.41 20L4 18.59l7.72-7.72 1.47 1.35L5.41 20z\"/>\n",
              "  </svg>\n",
              "      </button>\n",
              "      \n",
              "  <style>\n",
              "    .colab-df-container {\n",
              "      display:flex;\n",
              "      flex-wrap:wrap;\n",
              "      gap: 12px;\n",
              "    }\n",
              "\n",
              "    .colab-df-convert {\n",
              "      background-color: #E8F0FE;\n",
              "      border: none;\n",
              "      border-radius: 50%;\n",
              "      cursor: pointer;\n",
              "      display: none;\n",
              "      fill: #1967D2;\n",
              "      height: 32px;\n",
              "      padding: 0 0 0 0;\n",
              "      width: 32px;\n",
              "    }\n",
              "\n",
              "    .colab-df-convert:hover {\n",
              "      background-color: #E2EBFA;\n",
              "      box-shadow: 0px 1px 2px rgba(60, 64, 67, 0.3), 0px 1px 3px 1px rgba(60, 64, 67, 0.15);\n",
              "      fill: #174EA6;\n",
              "    }\n",
              "\n",
              "    [theme=dark] .colab-df-convert {\n",
              "      background-color: #3B4455;\n",
              "      fill: #D2E3FC;\n",
              "    }\n",
              "\n",
              "    [theme=dark] .colab-df-convert:hover {\n",
              "      background-color: #434B5C;\n",
              "      box-shadow: 0px 1px 3px 1px rgba(0, 0, 0, 0.15);\n",
              "      filter: drop-shadow(0px 1px 2px rgba(0, 0, 0, 0.3));\n",
              "      fill: #FFFFFF;\n",
              "    }\n",
              "  </style>\n",
              "\n",
              "      <script>\n",
              "        const buttonEl =\n",
              "          document.querySelector('#df-489858c2-f29d-4d55-91df-ff977f5e57e6 button.colab-df-convert');\n",
              "        buttonEl.style.display =\n",
              "          google.colab.kernel.accessAllowed ? 'block' : 'none';\n",
              "\n",
              "        async function convertToInteractive(key) {\n",
              "          const element = document.querySelector('#df-489858c2-f29d-4d55-91df-ff977f5e57e6');\n",
              "          const dataTable =\n",
              "            await google.colab.kernel.invokeFunction('convertToInteractive',\n",
              "                                                     [key], {});\n",
              "          if (!dataTable) return;\n",
              "\n",
              "          const docLinkHtml = 'Like what you see? Visit the ' +\n",
              "            '<a target=\"_blank\" href=https://colab.research.google.com/notebooks/data_table.ipynb>data table notebook</a>'\n",
              "            + ' to learn more about interactive tables.';\n",
              "          element.innerHTML = '';\n",
              "          dataTable['output_type'] = 'display_data';\n",
              "          await google.colab.output.renderOutput(dataTable, element);\n",
              "          const docLink = document.createElement('div');\n",
              "          docLink.innerHTML = docLinkHtml;\n",
              "          element.appendChild(docLink);\n",
              "        }\n",
              "      </script>\n",
              "    </div>\n",
              "  </div>\n",
              "  "
            ],
            "text/plain": [
              "                  date  ...                                     filtered_words\n",
              "0  2021-02-10 23:59:04  ...  [blue, ridg, bank, share, halt, nyse, bitcoin,...\n",
              "1  2021-02-10 23:58:48  ...  [today, thursday, take, friend, user, btc, wal...\n",
              "2  2021-02-10 23:54:48  ...  [guy, even, read, articl, btc, would, like, sh...\n",
              "3  2021-02-10 23:54:33  ...  [btc, big, chanc, billion, price, bitcoin, fx,...\n",
              "4  2021-02-10 23:54:06  ...  [network, secur, node, today, soon, biggest, b...\n",
              "\n",
              "[5 rows x 4 columns]"
            ]
          },
          "metadata": {},
          "execution_count": 27
        }
      ]
    },
    {
      "cell_type": "code",
      "source": [
        "# build word cloud\n",
        "\n",
        "text = df['filtered_words'].to_string()#.lower()    \n",
        "wordcloud = WordCloud(\n",
        "    collocations=False,\n",
        "    relative_scaling=0.5,).generate(text)\n",
        "\n",
        "plt.figure(figsize=(12,12))\n",
        "plt.imshow(wordcloud)\n",
        "plt.axis(\"off\")\n",
        "plt.show()"
      ],
      "metadata": {
        "id": "LaJ3jozJLu0A",
        "colab": {
          "base_uri": "https://localhost:8080/"
        },
        "outputId": "637bf8d8-3697-4ef9-d135-5c84ef028ef0"
      },
      "execution_count": null,
      "outputs": [
        {
          "output_type": "display_data",
          "data": {
            "image/png": "[encoded data removed]",
            "text/plain": [
              "<Figure size 864x864 with 1 Axes>"
            ]
          },
          "metadata": {
            "needs_background": "light"
          }
        }
      ]
    },
    {
      "cell_type": "markdown",
      "source": [
        "# Sentiment Intensity Analyse (VADER)\n",
        "VADER means Valence Aware Dictionary and sEntiment Reasoner\n"
      ],
      "metadata": {
        "id": "vLn5DHhDCQiN"
      }
    },
    {
      "cell_type": "code",
      "source": [
        "from vaderSentiment.vaderSentiment import SentimentIntensityAnalyzer"
      ],
      "metadata": {
        "id": "DPzmEEz8CMfq"
      },
      "execution_count": null,
      "outputs": []
    },
    {
      "cell_type": "code",
      "source": [
        "#pipeline - Sentiment Intensity Analyse treatment (VADER)\n",
        "\n",
        "def unlist(list):\n",
        "    words=''\n",
        "    for item in list:\n",
        "        words+=item+' '\n",
        "    return words\n",
        "\n",
        "def compute_vader_scores(df, label):\n",
        "    #classification = 0\n",
        "    sid = SentimentIntensityAnalyzer()\n",
        "    df[\"vader_neg(%)\"] = df[label].apply(lambda x: sid.polarity_scores(unlist(x))[\"neg\"]*100)\n",
        "    df[\"vader_neu(%)\"] = df[label].apply(lambda x: sid.polarity_scores(unlist(x))[\"neu\"]*100)\n",
        "    df[\"vader_pos(%)\"] = df[label].apply(lambda x: sid.polarity_scores(unlist(x))[\"pos\"]*100)\n",
        "    df[\"vader_comp(%)\"] = df[label].apply(lambda x: sid.polarity_scores(unlist(x))[\"compound\"]*100)\n",
        "    # decide sentiment as positive, negative and neutral\n",
        "    #if df[\"vader_comp(%)\"] >= 0.05 :\n",
        "     #   classification = ['positive']\n",
        "    #elif df[\"vader_comp(%)\"] <= - 0.05 :\n",
        "     #   classification = ['negative']\n",
        "    #else :\n",
        "     #   classification = ['neutral']\n",
        "    #df['Sentiment'] = classification #df[label].apply(lambda x: unlist(x))\n",
        "    return df"
      ],
      "metadata": {
        "id": "prOoKoHtCMc6"
      },
      "execution_count": null,
      "outputs": []
    },
    {
      "cell_type": "code",
      "source": [
        "df.head(5)"
      ],
      "metadata": {
        "id": "o0dp0aMfwgMD",
        "colab": {
          "base_uri": "https://localhost:8080/",
          "height": 206
        },
        "outputId": "55e4d928-2570-4b99-dbc6-af9334fa3c4f"
      },
      "execution_count": null,
      "outputs": [
        {
          "output_type": "execute_result",
          "data": {
            "text/html": [
              "\n",
              "  <div id=\"df-faedd923-b011-48c8-93d2-bd1571e547fa\">\n",
              "    <div class=\"colab-df-container\">\n",
              "      <div>\n",
              "<style scoped>\n",
              "    .dataframe tbody tr th:only-of-type {\n",
              "        vertical-align: middle;\n",
              "    }\n",
              "\n",
              "    .dataframe tbody tr th {\n",
              "        vertical-align: top;\n",
              "    }\n",
              "\n",
              "    .dataframe thead th {\n",
              "        text-align: right;\n",
              "    }\n",
              "</style>\n",
              "<table border=\"1\" class=\"dataframe\">\n",
              "  <thead>\n",
              "    <tr style=\"text-align: right;\">\n",
              "      <th></th>\n",
              "      <th>date</th>\n",
              "      <th>text</th>\n",
              "      <th>text_length</th>\n",
              "      <th>filtered_words</th>\n",
              "    </tr>\n",
              "  </thead>\n",
              "  <tbody>\n",
              "    <tr>\n",
              "      <th>0</th>\n",
              "      <td>2021-02-10 23:59:04</td>\n",
              "      <td>Blue Ridge Bank shares halted by NYSE after #b...</td>\n",
              "      <td>135</td>\n",
              "      <td>[blue, ridg, bank, share, halt, nyse, bitcoin,...</td>\n",
              "    </tr>\n",
              "    <tr>\n",
              "      <th>1</th>\n",
              "      <td>2021-02-10 23:58:48</td>\n",
              "      <td>😎 Today, that's this #Thursday, we will do a \"...</td>\n",
              "      <td>140</td>\n",
              "      <td>[today, thursday, take, friend, user, btc, wal...</td>\n",
              "    </tr>\n",
              "    <tr>\n",
              "      <th>2</th>\n",
              "      <td>2021-02-10 23:54:48</td>\n",
              "      <td>Guys evening, I have read this article about B...</td>\n",
              "      <td>136</td>\n",
              "      <td>[guy, even, read, articl, btc, would, like, sh...</td>\n",
              "    </tr>\n",
              "    <tr>\n",
              "      <th>3</th>\n",
              "      <td>2021-02-10 23:54:33</td>\n",
              "      <td>$BTC A big chance in a billion! Price: \\487264...</td>\n",
              "      <td>94</td>\n",
              "      <td>[btc, big, chanc, billion, price, bitcoin, fx,...</td>\n",
              "    </tr>\n",
              "    <tr>\n",
              "      <th>4</th>\n",
              "      <td>2021-02-10 23:54:06</td>\n",
              "      <td>This network is secured by 9 508 nodes as of t...</td>\n",
              "      <td>140</td>\n",
              "      <td>[network, secur, node, today, soon, biggest, b...</td>\n",
              "    </tr>\n",
              "  </tbody>\n",
              "</table>\n",
              "</div>\n",
              "      <button class=\"colab-df-convert\" onclick=\"convertToInteractive('df-faedd923-b011-48c8-93d2-bd1571e547fa')\"\n",
              "              title=\"Convert this dataframe to an interactive table.\"\n",
              "              style=\"display:none;\">\n",
              "        \n",
              "  <svg xmlns=\"http://www.w3.org/2000/svg\" height=\"24px\"viewBox=\"0 0 24 24\"\n",
              "       width=\"24px\">\n",
              "    <path d=\"M0 0h24v24H0V0z\" fill=\"none\"/>\n",
              "    <path d=\"M18.56 5.44l.94 2.06.94-2.06 2.06-.94-2.06-.94-.94-2.06-.94 2.06-2.06.94zm-11 1L8.5 8.5l.94-2.06 2.06-.94-2.06-.94L8.5 2.5l-.94 2.06-2.06.94zm10 10l.94 2.06.94-2.06 2.06-.94-2.06-.94-.94-2.06-.94 2.06-2.06.94z\"/><path d=\"M17.41 7.96l-1.37-1.37c-.4-.4-.92-.59-1.43-.59-.52 0-1.04.2-1.43.59L10.3 9.45l-7.72 7.72c-.78.78-.78 2.05 0 2.83L4 21.41c.39.39.9.59 1.41.59.51 0 1.02-.2 1.41-.59l7.78-7.78 2.81-2.81c.8-.78.8-2.07 0-2.86zM5.41 20L4 18.59l7.72-7.72 1.47 1.35L5.41 20z\"/>\n",
              "  </svg>\n",
              "      </button>\n",
              "      \n",
              "  <style>\n",
              "    .colab-df-container {\n",
              "      display:flex;\n",
              "      flex-wrap:wrap;\n",
              "      gap: 12px;\n",
              "    }\n",
              "\n",
              "    .colab-df-convert {\n",
              "      background-color: #E8F0FE;\n",
              "      border: none;\n",
              "      border-radius: 50%;\n",
              "      cursor: pointer;\n",
              "      display: none;\n",
              "      fill: #1967D2;\n",
              "      height: 32px;\n",
              "      padding: 0 0 0 0;\n",
              "      width: 32px;\n",
              "    }\n",
              "\n",
              "    .colab-df-convert:hover {\n",
              "      background-color: #E2EBFA;\n",
              "      box-shadow: 0px 1px 2px rgba(60, 64, 67, 0.3), 0px 1px 3px 1px rgba(60, 64, 67, 0.15);\n",
              "      fill: #174EA6;\n",
              "    }\n",
              "\n",
              "    [theme=dark] .colab-df-convert {\n",
              "      background-color: #3B4455;\n",
              "      fill: #D2E3FC;\n",
              "    }\n",
              "\n",
              "    [theme=dark] .colab-df-convert:hover {\n",
              "      background-color: #434B5C;\n",
              "      box-shadow: 0px 1px 3px 1px rgba(0, 0, 0, 0.15);\n",
              "      filter: drop-shadow(0px 1px 2px rgba(0, 0, 0, 0.3));\n",
              "      fill: #FFFFFF;\n",
              "    }\n",
              "  </style>\n",
              "\n",
              "      <script>\n",
              "        const buttonEl =\n",
              "          document.querySelector('#df-faedd923-b011-48c8-93d2-bd1571e547fa button.colab-df-convert');\n",
              "        buttonEl.style.display =\n",
              "          google.colab.kernel.accessAllowed ? 'block' : 'none';\n",
              "\n",
              "        async function convertToInteractive(key) {\n",
              "          const element = document.querySelector('#df-faedd923-b011-48c8-93d2-bd1571e547fa');\n",
              "          const dataTable =\n",
              "            await google.colab.kernel.invokeFunction('convertToInteractive',\n",
              "                                                     [key], {});\n",
              "          if (!dataTable) return;\n",
              "\n",
              "          const docLinkHtml = 'Like what you see? Visit the ' +\n",
              "            '<a target=\"_blank\" href=https://colab.research.google.com/notebooks/data_table.ipynb>data table notebook</a>'\n",
              "            + ' to learn more about interactive tables.';\n",
              "          element.innerHTML = '';\n",
              "          dataTable['output_type'] = 'display_data';\n",
              "          await google.colab.output.renderOutput(dataTable, element);\n",
              "          const docLink = document.createElement('div');\n",
              "          docLink.innerHTML = docLinkHtml;\n",
              "          element.appendChild(docLink);\n",
              "        }\n",
              "      </script>\n",
              "    </div>\n",
              "  </div>\n",
              "  "
            ],
            "text/plain": [
              "                  date  ...                                     filtered_words\n",
              "0  2021-02-10 23:59:04  ...  [blue, ridg, bank, share, halt, nyse, bitcoin,...\n",
              "1  2021-02-10 23:58:48  ...  [today, thursday, take, friend, user, btc, wal...\n",
              "2  2021-02-10 23:54:48  ...  [guy, even, read, articl, btc, would, like, sh...\n",
              "3  2021-02-10 23:54:33  ...  [btc, big, chanc, billion, price, bitcoin, fx,...\n",
              "4  2021-02-10 23:54:06  ...  [network, secur, node, today, soon, biggest, b...\n",
              "\n",
              "[5 rows x 4 columns]"
            ]
          },
          "metadata": {},
          "execution_count": 31
        }
      ]
    },
    {
      "cell_type": "code",
      "source": [
        "# Data frame with vade sentiment analysis\n",
        "compute_vader_scores(df,'filtered_words')"
      ],
      "metadata": {
        "id": "V1xrU2gNfZjd",
        "colab": {
          "base_uri": "https://localhost:8080/",
          "height": 641
        },
        "outputId": "79f5b2d8-dfb1-4b5c-d97a-89a4837b8405"
      },
      "execution_count": null,
      "outputs": [
        {
          "output_type": "execute_result",
          "data": {
            "text/html": [
              "\n",
              "  <div id=\"df-8be856ee-bce2-427d-a9ca-d50a53687608\">\n",
              "    <div class=\"colab-df-container\">\n",
              "      <div>\n",
              "<style scoped>\n",
              "    .dataframe tbody tr th:only-of-type {\n",
              "        vertical-align: middle;\n",
              "    }\n",
              "\n",
              "    .dataframe tbody tr th {\n",
              "        vertical-align: top;\n",
              "    }\n",
              "\n",
              "    .dataframe thead th {\n",
              "        text-align: right;\n",
              "    }\n",
              "</style>\n",
              "<table border=\"1\" class=\"dataframe\">\n",
              "  <thead>\n",
              "    <tr style=\"text-align: right;\">\n",
              "      <th></th>\n",
              "      <th>date</th>\n",
              "      <th>text</th>\n",
              "      <th>text_length</th>\n",
              "      <th>filtered_words</th>\n",
              "      <th>vader_neg(%)</th>\n",
              "      <th>vader_neu(%)</th>\n",
              "      <th>vader_pos(%)</th>\n",
              "      <th>vader_comp(%)</th>\n",
              "    </tr>\n",
              "  </thead>\n",
              "  <tbody>\n",
              "    <tr>\n",
              "      <th>0</th>\n",
              "      <td>2021-02-10 23:59:04</td>\n",
              "      <td>Blue Ridge Bank shares halted by NYSE after #b...</td>\n",
              "      <td>135</td>\n",
              "      <td>[blue, ridg, bank, share, halt, nyse, bitcoin,...</td>\n",
              "      <td>0.0</td>\n",
              "      <td>83.3</td>\n",
              "      <td>16.7</td>\n",
              "      <td>29.60</td>\n",
              "    </tr>\n",
              "    <tr>\n",
              "      <th>1</th>\n",
              "      <td>2021-02-10 23:58:48</td>\n",
              "      <td>😎 Today, that's this #Thursday, we will do a \"...</td>\n",
              "      <td>140</td>\n",
              "      <td>[today, thursday, take, friend, user, btc, wal...</td>\n",
              "      <td>0.0</td>\n",
              "      <td>73.8</td>\n",
              "      <td>26.2</td>\n",
              "      <td>49.39</td>\n",
              "    </tr>\n",
              "    <tr>\n",
              "      <th>2</th>\n",
              "      <td>2021-02-10 23:54:48</td>\n",
              "      <td>Guys evening, I have read this article about B...</td>\n",
              "      <td>136</td>\n",
              "      <td>[guy, even, read, articl, btc, would, like, sh...</td>\n",
              "      <td>0.0</td>\n",
              "      <td>63.0</td>\n",
              "      <td>37.0</td>\n",
              "      <td>57.19</td>\n",
              "    </tr>\n",
              "    <tr>\n",
              "      <th>3</th>\n",
              "      <td>2021-02-10 23:54:33</td>\n",
              "      <td>$BTC A big chance in a billion! Price: \\487264...</td>\n",
              "      <td>94</td>\n",
              "      <td>[btc, big, chanc, billion, price, bitcoin, fx,...</td>\n",
              "      <td>0.0</td>\n",
              "      <td>100.0</td>\n",
              "      <td>0.0</td>\n",
              "      <td>0.00</td>\n",
              "    </tr>\n",
              "    <tr>\n",
              "      <th>4</th>\n",
              "      <td>2021-02-10 23:54:06</td>\n",
              "      <td>This network is secured by 9 508 nodes as of t...</td>\n",
              "      <td>140</td>\n",
              "      <td>[network, secur, node, today, soon, biggest, b...</td>\n",
              "      <td>24.1</td>\n",
              "      <td>75.9</td>\n",
              "      <td>0.0</td>\n",
              "      <td>-54.23</td>\n",
              "    </tr>\n",
              "    <tr>\n",
              "      <th>...</th>\n",
              "      <td>...</td>\n",
              "      <td>...</td>\n",
              "      <td>...</td>\n",
              "      <td>...</td>\n",
              "      <td>...</td>\n",
              "      <td>...</td>\n",
              "      <td>...</td>\n",
              "      <td>...</td>\n",
              "    </tr>\n",
              "    <tr>\n",
              "      <th>1999529</th>\n",
              "      <td>2021-12-29 19:53:40</td>\n",
              "      <td>OlegBarca's Stream №547! Live in few mins!\\n\\n...</td>\n",
              "      <td>199</td>\n",
              "      <td>[olegbarca, stream, live, min, hunt, level, pr...</td>\n",
              "      <td>0.0</td>\n",
              "      <td>74.9</td>\n",
              "      <td>25.1</td>\n",
              "      <td>69.08</td>\n",
              "    </tr>\n",
              "    <tr>\n",
              "      <th>1999530</th>\n",
              "      <td>2021-12-29 19:53:36</td>\n",
              "      <td>Crypto: MistToken\\nSymbol: #MistSwap \\nMistSwa...</td>\n",
              "      <td>301</td>\n",
              "      <td>[crypto, misttoken, symbol, mistswap, mistswap...</td>\n",
              "      <td>0.0</td>\n",
              "      <td>100.0</td>\n",
              "      <td>0.0</td>\n",
              "      <td>0.00</td>\n",
              "    </tr>\n",
              "    <tr>\n",
              "      <th>1999531</th>\n",
              "      <td>2021-12-29 19:53:33</td>\n",
              "      <td>Just 🔒 for 3x , what about you ? \\n\\n@AccelDef...</td>\n",
              "      <td>187</td>\n",
              "      <td>[x, user, launch, soon, btc, accel, ethereum, ...</td>\n",
              "      <td>0.0</td>\n",
              "      <td>100.0</td>\n",
              "      <td>0.0</td>\n",
              "      <td>0.00</td>\n",
              "    </tr>\n",
              "    <tr>\n",
              "      <th>1999532</th>\n",
              "      <td>2021-12-29 19:53:31</td>\n",
              "      <td>@Bitboy_Crypto A $Inari Trailer Video has been...</td>\n",
              "      <td>315</td>\n",
              "      <td>[user, inari, trailer, video, releas, user, bu...</td>\n",
              "      <td>0.0</td>\n",
              "      <td>100.0</td>\n",
              "      <td>0.0</td>\n",
              "      <td>0.00</td>\n",
              "    </tr>\n",
              "    <tr>\n",
              "      <th>1999533</th>\n",
              "      <td>2021-12-29 19:53:31</td>\n",
              "      <td>CNBC has a crypto special tonight... you know ...</td>\n",
              "      <td>67</td>\n",
              "      <td>[cnbc, crypto, special, tonight, know, mean, btc]</td>\n",
              "      <td>0.0</td>\n",
              "      <td>69.0</td>\n",
              "      <td>31.0</td>\n",
              "      <td>40.19</td>\n",
              "    </tr>\n",
              "  </tbody>\n",
              "</table>\n",
              "<p>1999534 rows × 8 columns</p>\n",
              "</div>\n",
              "      <button class=\"colab-df-convert\" onclick=\"convertToInteractive('df-8be856ee-bce2-427d-a9ca-d50a53687608')\"\n",
              "              title=\"Convert this dataframe to an interactive table.\"\n",
              "              style=\"display:none;\">\n",
              "        \n",
              "  <svg xmlns=\"http://www.w3.org/2000/svg\" height=\"24px\"viewBox=\"0 0 24 24\"\n",
              "       width=\"24px\">\n",
              "    <path d=\"M0 0h24v24H0V0z\" fill=\"none\"/>\n",
              "    <path d=\"M18.56 5.44l.94 2.06.94-2.06 2.06-.94-2.06-.94-.94-2.06-.94 2.06-2.06.94zm-11 1L8.5 8.5l.94-2.06 2.06-.94-2.06-.94L8.5 2.5l-.94 2.06-2.06.94zm10 10l.94 2.06.94-2.06 2.06-.94-2.06-.94-.94-2.06-.94 2.06-2.06.94z\"/><path d=\"M17.41 7.96l-1.37-1.37c-.4-.4-.92-.59-1.43-.59-.52 0-1.04.2-1.43.59L10.3 9.45l-7.72 7.72c-.78.78-.78 2.05 0 2.83L4 21.41c.39.39.9.59 1.41.59.51 0 1.02-.2 1.41-.59l7.78-7.78 2.81-2.81c.8-.78.8-2.07 0-2.86zM5.41 20L4 18.59l7.72-7.72 1.47 1.35L5.41 20z\"/>\n",
              "  </svg>\n",
              "      </button>\n",
              "      \n",
              "  <style>\n",
              "    .colab-df-container {\n",
              "      display:flex;\n",
              "      flex-wrap:wrap;\n",
              "      gap: 12px;\n",
              "    }\n",
              "\n",
              "    .colab-df-convert {\n",
              "      background-color: #E8F0FE;\n",
              "      border: none;\n",
              "      border-radius: 50%;\n",
              "      cursor: pointer;\n",
              "      display: none;\n",
              "      fill: #1967D2;\n",
              "      height: 32px;\n",
              "      padding: 0 0 0 0;\n",
              "      width: 32px;\n",
              "    }\n",
              "\n",
              "    .colab-df-convert:hover {\n",
              "      background-color: #E2EBFA;\n",
              "      box-shadow: 0px 1px 2px rgba(60, 64, 67, 0.3), 0px 1px 3px 1px rgba(60, 64, 67, 0.15);\n",
              "      fill: #174EA6;\n",
              "    }\n",
              "\n",
              "    [theme=dark] .colab-df-convert {\n",
              "      background-color: #3B4455;\n",
              "      fill: #D2E3FC;\n",
              "    }\n",
              "\n",
              "    [theme=dark] .colab-df-convert:hover {\n",
              "      background-color: #434B5C;\n",
              "      box-shadow: 0px 1px 3px 1px rgba(0, 0, 0, 0.15);\n",
              "      filter: drop-shadow(0px 1px 2px rgba(0, 0, 0, 0.3));\n",
              "      fill: #FFFFFF;\n",
              "    }\n",
              "  </style>\n",
              "\n",
              "      <script>\n",
              "        const buttonEl =\n",
              "          document.querySelector('#df-8be856ee-bce2-427d-a9ca-d50a53687608 button.colab-df-convert');\n",
              "        buttonEl.style.display =\n",
              "          google.colab.kernel.accessAllowed ? 'block' : 'none';\n",
              "\n",
              "        async function convertToInteractive(key) {\n",
              "          const element = document.querySelector('#df-8be856ee-bce2-427d-a9ca-d50a53687608');\n",
              "          const dataTable =\n",
              "            await google.colab.kernel.invokeFunction('convertToInteractive',\n",
              "                                                     [key], {});\n",
              "          if (!dataTable) return;\n",
              "\n",
              "          const docLinkHtml = 'Like what you see? Visit the ' +\n",
              "            '<a target=\"_blank\" href=https://colab.research.google.com/notebooks/data_table.ipynb>data table notebook</a>'\n",
              "            + ' to learn more about interactive tables.';\n",
              "          element.innerHTML = '';\n",
              "          dataTable['output_type'] = 'display_data';\n",
              "          await google.colab.output.renderOutput(dataTable, element);\n",
              "          const docLink = document.createElement('div');\n",
              "          docLink.innerHTML = docLinkHtml;\n",
              "          element.appendChild(docLink);\n",
              "        }\n",
              "      </script>\n",
              "    </div>\n",
              "  </div>\n",
              "  "
            ],
            "text/plain": [
              "                        date  ... vader_comp(%)\n",
              "0        2021-02-10 23:59:04  ...         29.60\n",
              "1        2021-02-10 23:58:48  ...         49.39\n",
              "2        2021-02-10 23:54:48  ...         57.19\n",
              "3        2021-02-10 23:54:33  ...          0.00\n",
              "4        2021-02-10 23:54:06  ...        -54.23\n",
              "...                      ...  ...           ...\n",
              "1999529  2021-12-29 19:53:40  ...         69.08\n",
              "1999530  2021-12-29 19:53:36  ...          0.00\n",
              "1999531  2021-12-29 19:53:33  ...          0.00\n",
              "1999532  2021-12-29 19:53:31  ...          0.00\n",
              "1999533  2021-12-29 19:53:31  ...         40.19\n",
              "\n",
              "[1999534 rows x 8 columns]"
            ]
          },
          "metadata": {},
          "execution_count": 32
        }
      ]
    },
    {
      "cell_type": "code",
      "source": [
        "df[\"vader_comp(%)\"].value_counts()"
      ],
      "metadata": {
        "id": "M59BOt0YqyNk",
        "colab": {
          "base_uri": "https://localhost:8080/"
        },
        "outputId": "6e85698d-2fe3-464c-ddc6-41d634eb36f4"
      },
      "execution_count": null,
      "outputs": [
        {
          "output_type": "execute_result",
          "data": {
            "text/plain": [
              " 0.00     742911\n",
              " 44.04     63198\n",
              " 36.12     52203\n",
              " 29.60     42472\n",
              " 63.69     31272\n",
              "           ...  \n",
              " 87.98         1\n",
              " 48.17         1\n",
              "-8.87          1\n",
              " 62.09         1\n",
              " 93.94         1\n",
              "Name: vader_comp(%), Length: 5352, dtype: int64"
            ]
          },
          "metadata": {},
          "execution_count": 33
        }
      ]
    },
    {
      "cell_type": "code",
      "source": [
        "#plt.figure(figsize=(28, 8))\n",
        "#sns.countplot(df[\"vader_comp(%)\"])"
      ],
      "metadata": {
        "id": "7LUNR4nlpjsY"
      },
      "execution_count": null,
      "outputs": []
    },
    {
      "cell_type": "code",
      "source": [
        "df[\"vader_comp(%)\"].describe()"
      ],
      "metadata": {
        "id": "vru6wJtSqy0D",
        "colab": {
          "base_uri": "https://localhost:8080/"
        },
        "outputId": "3376adf1-c2f9-4a18-ce07-0adc3cf83ba6"
      },
      "execution_count": null,
      "outputs": [
        {
          "output_type": "execute_result",
          "data": {
            "text/plain": [
              "count    1.999534e+06\n",
              "mean     2.241547e+01\n",
              "std      3.996552e+01\n",
              "min     -9.894000e+01\n",
              "25%      0.000000e+00\n",
              "50%      0.000000e+00\n",
              "75%      5.574000e+01\n",
              "max      9.953000e+01\n",
              "Name: vader_comp(%), dtype: float64"
            ]
          },
          "metadata": {},
          "execution_count": 35
        }
      ]
    },
    {
      "cell_type": "code",
      "source": [
        "df[\"vader_neg(%)\"].describe()"
      ],
      "metadata": {
        "id": "8UhSgPowx8c5",
        "colab": {
          "base_uri": "https://localhost:8080/"
        },
        "outputId": "d75eeea1-091d-48aa-ff9c-e8d24f0cadef"
      },
      "execution_count": null,
      "outputs": [
        {
          "output_type": "execute_result",
          "data": {
            "text/plain": [
              "count    1.999534e+06\n",
              "mean     3.698444e+00\n",
              "std      8.797774e+00\n",
              "min      0.000000e+00\n",
              "25%      0.000000e+00\n",
              "50%      0.000000e+00\n",
              "75%      0.000000e+00\n",
              "max      9.750000e+01\n",
              "Name: vader_neg(%), dtype: float64"
            ]
          },
          "metadata": {},
          "execution_count": 36
        }
      ]
    },
    {
      "cell_type": "code",
      "source": [
        "df[\"vader_pos(%)\"].describe()"
      ],
      "metadata": {
        "id": "Xv2NZ_f6yKMJ",
        "colab": {
          "base_uri": "https://localhost:8080/"
        },
        "outputId": "119e350b-f971-41e6-86ac-8dfdbeb1c874"
      },
      "execution_count": null,
      "outputs": [
        {
          "output_type": "execute_result",
          "data": {
            "text/plain": [
              "count    1.999534e+06\n",
              "mean     1.285805e+01\n",
              "std      1.502272e+01\n",
              "min      0.000000e+00\n",
              "25%      0.000000e+00\n",
              "50%      8.700000e+00\n",
              "75%      2.270000e+01\n",
              "max      9.390000e+01\n",
              "Name: vader_pos(%), dtype: float64"
            ]
          },
          "metadata": {},
          "execution_count": 37
        }
      ]
    },
    {
      "cell_type": "code",
      "source": [
        "df[\"vader_neu(%)\"].describe()"
      ],
      "metadata": {
        "id": "gy48Ka2QyOl1",
        "colab": {
          "base_uri": "https://localhost:8080/"
        },
        "outputId": "ceb3ec3c-4bfc-4837-edf5-513b2645a4ee"
      },
      "execution_count": null,
      "outputs": [
        {
          "output_type": "execute_result",
          "data": {
            "text/plain": [
              "count    1.999534e+06\n",
              "mean     8.344307e+01\n",
              "std      1.647263e+01\n",
              "min      2.500000e+00\n",
              "25%      7.170000e+01\n",
              "50%      8.550000e+01\n",
              "75%      1.000000e+02\n",
              "max      1.000000e+02\n",
              "Name: vader_neu(%), dtype: float64"
            ]
          },
          "metadata": {},
          "execution_count": 38
        }
      ]
    },
    {
      "cell_type": "code",
      "source": [
        "#classification=[]\n",
        "\n",
        "#set sentiments values:\n",
        "# defined according to paper:https://www.analyticsvidhya.com/blog/2021/06/vader-for-sentiment-analysis/\n",
        "pos = 0.05\n",
        "neg = -0.05\n",
        "\n",
        "#index 01:\n",
        "\n",
        "class0=[]\n",
        "for i in range(len(df)):\n",
        "    if df.loc[i,'vader_comp(%)']>= pos:\n",
        "        class0+=['positive']\n",
        "    elif df.loc[i,'vader_comp(%)']<= neg:\n",
        "        class0+=['negative']        \n",
        "    else:\n",
        "        class0+=['neutral']  \n",
        "\n",
        "df['Sentiment']=class0\n",
        "df['Sentiment'].value_counts()\n",
        "\n"
      ],
      "metadata": {
        "id": "IoIoyv591luM",
        "colab": {
          "base_uri": "https://localhost:8080/"
        },
        "outputId": "e3e39ed3-9fe6-4b73-9d19-25a5b5e734a4"
      },
      "execution_count": null,
      "outputs": [
        {
          "output_type": "execute_result",
          "data": {
            "text/plain": [
              "positive    989549\n",
              "neutral     742911\n",
              "negative    267074\n",
              "Name: Sentiment, dtype: int64"
            ]
          },
          "metadata": {},
          "execution_count": 39
        }
      ]
    },
    {
      "cell_type": "code",
      "source": [
        "df.head(5)"
      ],
      "metadata": {
        "id": "GEkt8f4Ny-zj",
        "colab": {
          "base_uri": "https://localhost:8080/",
          "height": 337
        },
        "outputId": "09bec4a5-f3b9-4048-89fa-67ad0b8942c0"
      },
      "execution_count": null,
      "outputs": [
        {
          "output_type": "execute_result",
          "data": {
            "text/html": [
              "\n",
              "  <div id=\"df-cf6b7d7f-fda5-4db5-b535-fb3a0f55725e\">\n",
              "    <div class=\"colab-df-container\">\n",
              "      <div>\n",
              "<style scoped>\n",
              "    .dataframe tbody tr th:only-of-type {\n",
              "        vertical-align: middle;\n",
              "    }\n",
              "\n",
              "    .dataframe tbody tr th {\n",
              "        vertical-align: top;\n",
              "    }\n",
              "\n",
              "    .dataframe thead th {\n",
              "        text-align: right;\n",
              "    }\n",
              "</style>\n",
              "<table border=\"1\" class=\"dataframe\">\n",
              "  <thead>\n",
              "    <tr style=\"text-align: right;\">\n",
              "      <th></th>\n",
              "      <th>date</th>\n",
              "      <th>text</th>\n",
              "      <th>text_length</th>\n",
              "      <th>filtered_words</th>\n",
              "      <th>vader_neg(%)</th>\n",
              "      <th>vader_neu(%)</th>\n",
              "      <th>vader_pos(%)</th>\n",
              "      <th>vader_comp(%)</th>\n",
              "      <th>Sentiment</th>\n",
              "    </tr>\n",
              "  </thead>\n",
              "  <tbody>\n",
              "    <tr>\n",
              "      <th>0</th>\n",
              "      <td>2021-02-10 23:59:04</td>\n",
              "      <td>Blue Ridge Bank shares halted by NYSE after #b...</td>\n",
              "      <td>135</td>\n",
              "      <td>[blue, ridg, bank, share, halt, nyse, bitcoin,...</td>\n",
              "      <td>0.0</td>\n",
              "      <td>83.3</td>\n",
              "      <td>16.7</td>\n",
              "      <td>29.60</td>\n",
              "      <td>positive</td>\n",
              "    </tr>\n",
              "    <tr>\n",
              "      <th>1</th>\n",
              "      <td>2021-02-10 23:58:48</td>\n",
              "      <td>😎 Today, that's this #Thursday, we will do a \"...</td>\n",
              "      <td>140</td>\n",
              "      <td>[today, thursday, take, friend, user, btc, wal...</td>\n",
              "      <td>0.0</td>\n",
              "      <td>73.8</td>\n",
              "      <td>26.2</td>\n",
              "      <td>49.39</td>\n",
              "      <td>positive</td>\n",
              "    </tr>\n",
              "    <tr>\n",
              "      <th>2</th>\n",
              "      <td>2021-02-10 23:54:48</td>\n",
              "      <td>Guys evening, I have read this article about B...</td>\n",
              "      <td>136</td>\n",
              "      <td>[guy, even, read, articl, btc, would, like, sh...</td>\n",
              "      <td>0.0</td>\n",
              "      <td>63.0</td>\n",
              "      <td>37.0</td>\n",
              "      <td>57.19</td>\n",
              "      <td>positive</td>\n",
              "    </tr>\n",
              "    <tr>\n",
              "      <th>3</th>\n",
              "      <td>2021-02-10 23:54:33</td>\n",
              "      <td>$BTC A big chance in a billion! Price: \\487264...</td>\n",
              "      <td>94</td>\n",
              "      <td>[btc, big, chanc, billion, price, bitcoin, fx,...</td>\n",
              "      <td>0.0</td>\n",
              "      <td>100.0</td>\n",
              "      <td>0.0</td>\n",
              "      <td>0.00</td>\n",
              "      <td>neutral</td>\n",
              "    </tr>\n",
              "    <tr>\n",
              "      <th>4</th>\n",
              "      <td>2021-02-10 23:54:06</td>\n",
              "      <td>This network is secured by 9 508 nodes as of t...</td>\n",
              "      <td>140</td>\n",
              "      <td>[network, secur, node, today, soon, biggest, b...</td>\n",
              "      <td>24.1</td>\n",
              "      <td>75.9</td>\n",
              "      <td>0.0</td>\n",
              "      <td>-54.23</td>\n",
              "      <td>negative</td>\n",
              "    </tr>\n",
              "  </tbody>\n",
              "</table>\n",
              "</div>\n",
              "      <button class=\"colab-df-convert\" onclick=\"convertToInteractive('df-cf6b7d7f-fda5-4db5-b535-fb3a0f55725e')\"\n",
              "              title=\"Convert this dataframe to an interactive table.\"\n",
              "              style=\"display:none;\">\n",
              "        \n",
              "  <svg xmlns=\"http://www.w3.org/2000/svg\" height=\"24px\"viewBox=\"0 0 24 24\"\n",
              "       width=\"24px\">\n",
              "    <path d=\"M0 0h24v24H0V0z\" fill=\"none\"/>\n",
              "    <path d=\"M18.56 5.44l.94 2.06.94-2.06 2.06-.94-2.06-.94-.94-2.06-.94 2.06-2.06.94zm-11 1L8.5 8.5l.94-2.06 2.06-.94-2.06-.94L8.5 2.5l-.94 2.06-2.06.94zm10 10l.94 2.06.94-2.06 2.06-.94-2.06-.94-.94-2.06-.94 2.06-2.06.94z\"/><path d=\"M17.41 7.96l-1.37-1.37c-.4-.4-.92-.59-1.43-.59-.52 0-1.04.2-1.43.59L10.3 9.45l-7.72 7.72c-.78.78-.78 2.05 0 2.83L4 21.41c.39.39.9.59 1.41.59.51 0 1.02-.2 1.41-.59l7.78-7.78 2.81-2.81c.8-.78.8-2.07 0-2.86zM5.41 20L4 18.59l7.72-7.72 1.47 1.35L5.41 20z\"/>\n",
              "  </svg>\n",
              "      </button>\n",
              "      \n",
              "  <style>\n",
              "    .colab-df-container {\n",
              "      display:flex;\n",
              "      flex-wrap:wrap;\n",
              "      gap: 12px;\n",
              "    }\n",
              "\n",
              "    .colab-df-convert {\n",
              "      background-color: #E8F0FE;\n",
              "      border: none;\n",
              "      border-radius: 50%;\n",
              "      cursor: pointer;\n",
              "      display: none;\n",
              "      fill: #1967D2;\n",
              "      height: 32px;\n",
              "      padding: 0 0 0 0;\n",
              "      width: 32px;\n",
              "    }\n",
              "\n",
              "    .colab-df-convert:hover {\n",
              "      background-color: #E2EBFA;\n",
              "      box-shadow: 0px 1px 2px rgba(60, 64, 67, 0.3), 0px 1px 3px 1px rgba(60, 64, 67, 0.15);\n",
              "      fill: #174EA6;\n",
              "    }\n",
              "\n",
              "    [theme=dark] .colab-df-convert {\n",
              "      background-color: #3B4455;\n",
              "      fill: #D2E3FC;\n",
              "    }\n",
              "\n",
              "    [theme=dark] .colab-df-convert:hover {\n",
              "      background-color: #434B5C;\n",
              "      box-shadow: 0px 1px 3px 1px rgba(0, 0, 0, 0.15);\n",
              "      filter: drop-shadow(0px 1px 2px rgba(0, 0, 0, 0.3));\n",
              "      fill: #FFFFFF;\n",
              "    }\n",
              "  </style>\n",
              "\n",
              "      <script>\n",
              "        const buttonEl =\n",
              "          document.querySelector('#df-cf6b7d7f-fda5-4db5-b535-fb3a0f55725e button.colab-df-convert');\n",
              "        buttonEl.style.display =\n",
              "          google.colab.kernel.accessAllowed ? 'block' : 'none';\n",
              "\n",
              "        async function convertToInteractive(key) {\n",
              "          const element = document.querySelector('#df-cf6b7d7f-fda5-4db5-b535-fb3a0f55725e');\n",
              "          const dataTable =\n",
              "            await google.colab.kernel.invokeFunction('convertToInteractive',\n",
              "                                                     [key], {});\n",
              "          if (!dataTable) return;\n",
              "\n",
              "          const docLinkHtml = 'Like what you see? Visit the ' +\n",
              "            '<a target=\"_blank\" href=https://colab.research.google.com/notebooks/data_table.ipynb>data table notebook</a>'\n",
              "            + ' to learn more about interactive tables.';\n",
              "          element.innerHTML = '';\n",
              "          dataTable['output_type'] = 'display_data';\n",
              "          await google.colab.output.renderOutput(dataTable, element);\n",
              "          const docLink = document.createElement('div');\n",
              "          docLink.innerHTML = docLinkHtml;\n",
              "          element.appendChild(docLink);\n",
              "        }\n",
              "      </script>\n",
              "    </div>\n",
              "  </div>\n",
              "  "
            ],
            "text/plain": [
              "                  date  ... Sentiment\n",
              "0  2021-02-10 23:59:04  ...  positive\n",
              "1  2021-02-10 23:58:48  ...  positive\n",
              "2  2021-02-10 23:54:48  ...  positive\n",
              "3  2021-02-10 23:54:33  ...   neutral\n",
              "4  2021-02-10 23:54:06  ...  negative\n",
              "\n",
              "[5 rows x 9 columns]"
            ]
          },
          "metadata": {},
          "execution_count": 40
        }
      ]
    },
    {
      "cell_type": "code",
      "source": [
        "#No necessary two classifications functions. Moreover, the before is simplest\n",
        "# index 02\n",
        "\n",
        "#def classification(num):\n",
        "#  for i in range(len(df)):\n",
        "#    if df.loc[i,'vader_comp(%)'] >= pos:\n",
        "#      classification = ['positivo']\n",
        "#    elif df.loc[i,'vader_comp(%)'] <= neg:\n",
        "#      classification = ['negativo']       \n",
        "#    else:\n",
        "#      classification = ['neutro']\n",
        "    #print(i, classification)\n",
        "#    return classification\n",
        "  \n",
        "#def sentiment(df, label):\n",
        "  #for x in range(len(df)):\n",
        "#  print(df.loc[i,label])\n",
        "#  df[\"Sentiment\"] = df[label].apply(lambda x: classification(x))\n",
        "#  return df"
      ],
      "metadata": {
        "id": "Vby_wgcabxQu"
      },
      "execution_count": null,
      "outputs": []
    },
    {
      "cell_type": "code",
      "source": [
        "#sentiment(df,'vader_comp(%)')"
      ],
      "metadata": {
        "id": "s30vjE5O2aCx"
      },
      "execution_count": null,
      "outputs": []
    },
    {
      "cell_type": "code",
      "source": [
        "#df['Sentiment'].value_counts()"
      ],
      "metadata": {
        "id": "drFTGLmC5ZQH"
      },
      "execution_count": null,
      "outputs": []
    },
    {
      "cell_type": "code",
      "source": [
        "print(df[\"Sentiment\"].value_counts())\n",
        "sns.countplot(df['Sentiment']) "
      ],
      "metadata": {
        "id": "RjSOcN_P04F7",
        "colab": {
          "base_uri": "https://localhost:8080/",
          "height": 377
        },
        "outputId": "848ee9ef-f6ca-40b6-efb8-5b13b154e41a"
      },
      "execution_count": null,
      "outputs": [
        {
          "output_type": "stream",
          "name": "stdout",
          "text": [
            "positive    989549\n",
            "neutral     742911\n",
            "negative    267074\n",
            "Name: Sentiment, dtype: int64\n"
          ]
        },
        {
          "output_type": "execute_result",
          "data": {
            "text/plain": [
              "<matplotlib.axes._subplots.AxesSubplot at 0x7fb5e2f40450>"
            ]
          },
          "metadata": {},
          "execution_count": 44
        },
        {
          "output_type": "display_data",
          "data": {
            "image/png": "[encoded data removed]",
            "text/plain": [
              "<Figure size 432x288 with 1 Axes>"
            ]
          },
          "metadata": {
            "needs_background": "light"
          }
        }
      ]
    },
    {
      "cell_type": "code",
      "source": [
        "g = sns.FacetGrid(df,col='Sentiment')\n",
        "g.map(plt.hist,'text_length')"
      ],
      "metadata": {
        "id": "s2Z0Dz_BtWdP",
        "colab": {
          "base_uri": "https://localhost:8080/",
          "height": 242
        },
        "outputId": "4e14a054-7120-49b4-abd9-46b676b7370b"
      },
      "execution_count": null,
      "outputs": [
        {
          "output_type": "execute_result",
          "data": {
            "text/plain": [
              "<seaborn.axisgrid.FacetGrid at 0x7f283ee313d0>"
            ]
          },
          "metadata": {},
          "execution_count": 45
        },
        {
          "output_type": "display_data",
          "data": {
            "image/png": "[encoded data removed]",
            "text/plain": [
              "<Figure size 648x216 with 3 Axes>"
            ]
          },
          "metadata": {
            "needs_background": "light"
          }
        }
      ]
    },
    {
      "cell_type": "code",
      "source": [
        "#create a file to inspect data classified by Vader with other script\n",
        "df.to_csv('tweet_formated')"
      ],
      "metadata": {
        "id": "q_B_LfDjrmjt"
      },
      "execution_count": null,
      "outputs": []
    }
  ]
}